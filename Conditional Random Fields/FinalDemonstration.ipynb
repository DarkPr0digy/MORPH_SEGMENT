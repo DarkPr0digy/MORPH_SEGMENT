{
 "cells": [
  {
   "cell_type": "markdown",
   "source": [
    "# Final Demonstration Conditional Random Fields for Surface Segmentation\n",
    "## Tumi Moeng - 16/10/2020"
   ],
   "metadata": {
    "collapsed": false
   }
  },
  {
   "cell_type": "markdown",
   "source": [
    "## Demonstration\n",
    "For the purpose of the demonstration I will only be showing testing for the BaselineCRF as\n",
    "it produced the most favourable results of the two models implemented. All four languages will\n",
    "be tested in this short demonstration. For all four languages we will be giving them a word, and\n",
    "then the word will be segmented and those segments will be labelled."
   ],
   "metadata": {
    "collapsed": false
   }
  },
  {
   "cell_type": "code",
   "execution_count": 3,
   "outputs": [
    {
     "name": "stdout",
     "output_type": "stream",
     "text": [
      "Starting CRF Generation\n"
     ]
    },
    {
     "ename": "KeyboardInterrupt",
     "evalue": "",
     "output_type": "error",
     "traceback": [
      "\u001B[1;31m---------------------------------------------------------------------------\u001B[0m",
      "\u001B[1;31mKeyboardInterrupt\u001B[0m                         Traceback (most recent call last)",
      "\u001B[1;32m<ipython-input-3-4e1e24b8f1ca>\u001B[0m in \u001B[0;36m<module>\u001B[1;34m\u001B[0m\n\u001B[0;32m      4\u001B[0m \u001B[0mprint\u001B[0m\u001B[1;33m(\u001B[0m\u001B[1;34m\"Starting CRF Generation\"\u001B[0m\u001B[1;33m)\u001B[0m\u001B[1;33m\u001B[0m\u001B[1;33m\u001B[0m\u001B[0m\n\u001B[0;32m      5\u001B[0m \u001B[0mndebele_surface\u001B[0m \u001B[1;33m=\u001B[0m \u001B[0mBaselineCRF\u001B[0m\u001B[1;33m(\u001B[0m\u001B[1;34m\"ndebele\"\u001B[0m\u001B[1;33m)\u001B[0m\u001B[1;33m.\u001B[0m\u001B[0mto_use_surface_crf\u001B[0m\u001B[1;33m(\u001B[0m\u001B[1;33m)\u001B[0m\u001B[1;33m\u001B[0m\u001B[1;33m\u001B[0m\u001B[0m\n\u001B[1;32m----> 6\u001B[1;33m \u001B[0mndebele_labelled\u001B[0m \u001B[1;33m=\u001B[0m \u001B[0mBaselineCRF\u001B[0m\u001B[1;33m(\u001B[0m\u001B[1;34m\"ndebele\"\u001B[0m\u001B[1;33m)\u001B[0m\u001B[1;33m.\u001B[0m\u001B[0mto_use_labelled_crf\u001B[0m\u001B[1;33m(\u001B[0m\u001B[1;33m)\u001B[0m\u001B[1;33m\u001B[0m\u001B[1;33m\u001B[0m\u001B[0m\n\u001B[0m\u001B[0;32m      7\u001B[0m \u001B[0mprint\u001B[0m\u001B[1;33m(\u001B[0m\u001B[1;34m\"isiNdebele Done\"\u001B[0m\u001B[1;33m)\u001B[0m\u001B[1;33m\u001B[0m\u001B[1;33m\u001B[0m\u001B[0m\n\u001B[0;32m      8\u001B[0m \u001B[0mswati_surface\u001B[0m \u001B[1;33m=\u001B[0m \u001B[0mBaselineCRF\u001B[0m\u001B[1;33m(\u001B[0m\u001B[1;34m\"swati\"\u001B[0m\u001B[1;33m)\u001B[0m\u001B[1;33m.\u001B[0m\u001B[0mto_use_surface_crf\u001B[0m\u001B[1;33m(\u001B[0m\u001B[1;33m)\u001B[0m\u001B[1;33m\u001B[0m\u001B[1;33m\u001B[0m\u001B[0m\n",
      "\u001B[1;32m~\\Desktop\\UniWork\\Fourth Year\\CS Honours\\Honours Project\\CRFModels\\BaselineCRF.py\u001B[0m in \u001B[0;36mto_use_labelled_crf\u001B[1;34m(self)\u001B[0m\n\u001B[0;32m    282\u001B[0m         \u001B[0mcrf\u001B[0m \u001B[1;33m=\u001B[0m \u001B[0msklearn_crfsuite\u001B[0m\u001B[1;33m.\u001B[0m\u001B[0mCRF\u001B[0m\u001B[1;33m(\u001B[0m\u001B[0malgorithm\u001B[0m\u001B[1;33m=\u001B[0m\u001B[1;34m'ap'\u001B[0m\u001B[1;33m,\u001B[0m \u001B[0mepsilon\u001B[0m\u001B[1;33m=\u001B[0m\u001B[0mbest_epsilon\u001B[0m\u001B[1;33m,\u001B[0m \u001B[0mmax_iterations\u001B[0m\u001B[1;33m=\u001B[0m\u001B[0mbest_max_iteration\u001B[0m\u001B[1;33m)\u001B[0m\u001B[1;33m\u001B[0m\u001B[1;33m\u001B[0m\u001B[0m\n\u001B[0;32m    283\u001B[0m \u001B[1;33m\u001B[0m\u001B[0m\n\u001B[1;32m--> 284\u001B[1;33m         \u001B[0mcrf\u001B[0m\u001B[1;33m.\u001B[0m\u001B[0mfit\u001B[0m\u001B[1;33m(\u001B[0m\u001B[0mX_training\u001B[0m\u001B[1;33m,\u001B[0m \u001B[0mY_training\u001B[0m\u001B[1;33m)\u001B[0m\u001B[1;33m\u001B[0m\u001B[1;33m\u001B[0m\u001B[0m\n\u001B[0m\u001B[0;32m    285\u001B[0m         \u001B[1;32mreturn\u001B[0m \u001B[0mcrf\u001B[0m\u001B[1;33m\u001B[0m\u001B[1;33m\u001B[0m\u001B[0m\n\u001B[0;32m    286\u001B[0m \u001B[1;33m\u001B[0m\u001B[0m\n",
      "\u001B[1;32mc:\\users\\tumi\\desktop\\uniwork\\fourth year\\cs honours\\honours project\\crfmodels\\venv\\lib\\site-packages\\sklearn_crfsuite\\estimator.py\u001B[0m in \u001B[0;36mfit\u001B[1;34m(self, X, y, X_dev, y_dev)\u001B[0m\n\u001B[0;32m    329\u001B[0m                 \u001B[0mprint\u001B[0m\u001B[1;33m(\u001B[0m\u001B[1;34m\"\"\u001B[0m\u001B[1;33m)\u001B[0m\u001B[1;33m\u001B[0m\u001B[1;33m\u001B[0m\u001B[0m\n\u001B[0;32m    330\u001B[0m \u001B[1;33m\u001B[0m\u001B[0m\n\u001B[1;32m--> 331\u001B[1;33m         \u001B[0mtrainer\u001B[0m\u001B[1;33m.\u001B[0m\u001B[0mtrain\u001B[0m\u001B[1;33m(\u001B[0m\u001B[0mself\u001B[0m\u001B[1;33m.\u001B[0m\u001B[0mmodelfile\u001B[0m\u001B[1;33m.\u001B[0m\u001B[0mname\u001B[0m\u001B[1;33m,\u001B[0m \u001B[0mholdout\u001B[0m\u001B[1;33m=\u001B[0m\u001B[1;33m-\u001B[0m\u001B[1;36m1\u001B[0m \u001B[1;32mif\u001B[0m \u001B[0mX_dev\u001B[0m \u001B[1;32mis\u001B[0m \u001B[1;32mNone\u001B[0m \u001B[1;32melse\u001B[0m \u001B[1;36m1\u001B[0m\u001B[1;33m)\u001B[0m\u001B[1;33m\u001B[0m\u001B[1;33m\u001B[0m\u001B[0m\n\u001B[0m\u001B[0;32m    332\u001B[0m         \u001B[0mself\u001B[0m\u001B[1;33m.\u001B[0m\u001B[0mtraining_log_\u001B[0m \u001B[1;33m=\u001B[0m \u001B[0mtrainer\u001B[0m\u001B[1;33m.\u001B[0m\u001B[0mlogparser\u001B[0m\u001B[1;33m\u001B[0m\u001B[1;33m\u001B[0m\u001B[0m\n\u001B[0;32m    333\u001B[0m         \u001B[1;32mreturn\u001B[0m \u001B[0mself\u001B[0m\u001B[1;33m\u001B[0m\u001B[1;33m\u001B[0m\u001B[0m\n",
      "\u001B[1;32mpycrfsuite\\_pycrfsuite.pyx\u001B[0m in \u001B[0;36mpycrfsuite._pycrfsuite.BaseTrainer.train\u001B[1;34m()\u001B[0m\n",
      "\u001B[1;32mpycrfsuite\\_pycrfsuite.pyx\u001B[0m in \u001B[0;36mpycrfsuite._pycrfsuite.BaseTrainer._on_message\u001B[1;34m()\u001B[0m\n",
      "\u001B[1;32mpycrfsuite\\_pycrfsuite.pyx\u001B[0m in \u001B[0;36mpycrfsuite._pycrfsuite.Trainer.message\u001B[1;34m()\u001B[0m\n",
      "\u001B[1;32mc:\\users\\tumi\\desktop\\uniwork\\fourth year\\cs honours\\honours project\\crfmodels\\venv\\lib\\site-packages\\pycrfsuite\\_logparser.py\u001B[0m in \u001B[0;36mfeed\u001B[1;34m(self, line)\u001B[0m\n\u001B[0;32m     25\u001B[0m     \u001B[1;32mdef\u001B[0m \u001B[0mfeed\u001B[0m\u001B[1;33m(\u001B[0m\u001B[0mself\u001B[0m\u001B[1;33m,\u001B[0m \u001B[0mline\u001B[0m\u001B[1;33m)\u001B[0m\u001B[1;33m:\u001B[0m\u001B[1;33m\u001B[0m\u001B[1;33m\u001B[0m\u001B[0m\n\u001B[0;32m     26\u001B[0m         \u001B[1;31m# if line != '\\n':\u001B[0m\u001B[1;33m\u001B[0m\u001B[1;33m\u001B[0m\u001B[1;33m\u001B[0m\u001B[0m\n\u001B[1;32m---> 27\u001B[1;33m         \u001B[0mself\u001B[0m\u001B[1;33m.\u001B[0m\u001B[0mlog\u001B[0m\u001B[1;33m.\u001B[0m\u001B[0mappend\u001B[0m\u001B[1;33m(\u001B[0m\u001B[0mline\u001B[0m\u001B[1;33m)\u001B[0m\u001B[1;33m\u001B[0m\u001B[1;33m\u001B[0m\u001B[0m\n\u001B[0m\u001B[0;32m     28\u001B[0m         \u001B[1;32mif\u001B[0m \u001B[0mself\u001B[0m\u001B[1;33m.\u001B[0m\u001B[0mstate\u001B[0m \u001B[1;32mis\u001B[0m \u001B[1;32mNone\u001B[0m\u001B[1;33m:\u001B[0m\u001B[1;33m\u001B[0m\u001B[1;33m\u001B[0m\u001B[0m\n\u001B[0;32m     29\u001B[0m             \u001B[0mself\u001B[0m\u001B[1;33m.\u001B[0m\u001B[0mstate\u001B[0m \u001B[1;33m=\u001B[0m \u001B[1;34m'STARTING'\u001B[0m\u001B[1;33m\u001B[0m\u001B[1;33m\u001B[0m\u001B[0m\n",
      "\u001B[1;31mKeyboardInterrupt\u001B[0m: "
     ]
    }
   ],
   "source": [
    "from BaselineCRF import BaselineCRF, \\\n",
    "    surface_segment_data_active_preparation,\\\n",
    "    surface_labelled_data_preparation_pipeline\n",
    "print(\"Starting CRF Generation\")\n",
    "ndebele_surface = BaselineCRF(\"ndebele\").to_use_surface_crf()\n",
    "ndebele_labelled = BaselineCRF(\"ndebele\").to_use_labelled_crf()\n",
    "print(\"isiNdebele Done\")\n",
    "swati_surface = BaselineCRF(\"swati\").to_use_surface_crf()\n",
    "swati_labelled = BaselineCRF(\"swati\").to_use_labelled_crf()\n",
    "print(\"siSwati Done\")\n",
    "xhosa_surface = BaselineCRF(\"xhosa\").to_use_surface_crf()\n",
    "xhosa_labelled = BaselineCRF(\"xhosa\").to_use_labelled_crf()\n",
    "print(\"isiXhosa Done\")\n",
    "zulu_surface = BaselineCRF(\"zulu\").to_use_surface_crf()\n",
    "zulu_labelled = BaselineCRF(\"zulu\").to_use_labelled_crf()\n",
    "print(\"isiZulu Done\")\n",
    "print(\"CRF Generation Completed\")"
   ],
   "metadata": {
    "collapsed": false,
    "pycharm": {
     "name": "#%%\n"
    }
   }
  },
  {
   "cell_type": "markdown",
   "source": [
    "## isiNdebele"
   ],
   "metadata": {
    "collapsed": false
   }
  },
  {
   "cell_type": "code",
   "execution_count": 2,
   "outputs": [
    {
     "name": "stdout",
     "output_type": "stream",
     "text": [
      "umuntu\n"
     ]
    },
    {
     "ename": "NameError",
     "evalue": "name 'surface_segment_data_active_preparation' is not defined",
     "output_type": "error",
     "traceback": [
      "\u001B[1;31m---------------------------------------------------------------------------\u001B[0m",
      "\u001B[1;31mNameError\u001B[0m                                 Traceback (most recent call last)",
      "\u001B[1;32m<ipython-input-2-d71e9c3745a8>\u001B[0m in \u001B[0;36m<module>\u001B[1;34m\u001B[0m\n\u001B[0;32m      7\u001B[0m \u001B[1;33m\u001B[0m\u001B[0m\n\u001B[0;32m      8\u001B[0m     \u001B[0mans\u001B[0m \u001B[1;33m=\u001B[0m \u001B[1;33m[\u001B[0m\u001B[1;33m]\u001B[0m\u001B[1;33m\u001B[0m\u001B[1;33m\u001B[0m\u001B[0m\n\u001B[1;32m----> 9\u001B[1;33m     \u001B[0mfeatures\u001B[0m \u001B[1;33m=\u001B[0m \u001B[0msurface_segment_data_active_preparation\u001B[0m\u001B[1;33m(\u001B[0m\u001B[1;33m[\u001B[0m\u001B[0mword\u001B[0m\u001B[1;33m]\u001B[0m\u001B[1;33m)\u001B[0m\u001B[1;33m\u001B[0m\u001B[1;33m\u001B[0m\u001B[0m\n\u001B[0m\u001B[0;32m     10\u001B[0m     \u001B[0mans\u001B[0m \u001B[1;33m=\u001B[0m \u001B[0mndebele_surface\u001B[0m\u001B[1;33m.\u001B[0m\u001B[0mpredict\u001B[0m\u001B[1;33m(\u001B[0m\u001B[0mfeatures\u001B[0m\u001B[1;33m)\u001B[0m\u001B[1;33m\u001B[0m\u001B[1;33m\u001B[0m\u001B[0m\n\u001B[0;32m     11\u001B[0m \u001B[1;33m\u001B[0m\u001B[0m\n",
      "\u001B[1;31mNameError\u001B[0m: name 'surface_segment_data_active_preparation' is not defined"
     ]
    }
   ],
   "source": [
    "word = \"\"\n",
    "while True:\n",
    "    word = input(\"Enter a word: \").rstrip(\" \").rstrip(\"\\n\")\n",
    "    if word == \"quit\":\n",
    "        exit(0)\n",
    "\n",
    "    ans = []\n",
    "    features = surface_segment_data_active_preparation([word])\n",
    "    ans = ndebele_surface.predict(features)\n",
    "\n",
    "    labels = ans[0]\n",
    "    word_list = list(word)\n",
    "\n",
    "    tmp = []\n",
    "\n",
    "    for word, label in zip(word_list, labels):\n",
    "        for i in range(len(label)):\n",
    "            if label[i] == \"S\" or label[i] == \"E\":\n",
    "                tmp.append(word[i])\n",
    "                tmp.append(\"-\")\n",
    "            else:\n",
    "                tmp.append(word[i])\n",
    "    tmp = \"\".join(tmp).rstrip(\"-\")\n",
    "\n",
    "    print(\"Segmented Word: \"+tmp)\n",
    "    features = surface_labelled_data_preparation_pipeline([tmp])\n",
    "    ans = ndebele_labelled.predict(features)\n",
    "    labels = ans[0]\n",
    "    print(\"Segment Labels: \"+str(labels))"
   ],
   "metadata": {
    "collapsed": false,
    "pycharm": {
     "name": "#%%\n"
    }
   }
  },
  {
   "cell_type": "markdown",
   "source": [
    "## isiXhosa"
   ],
   "metadata": {
    "collapsed": false
   }
  },
  {
   "cell_type": "code",
   "execution_count": null,
   "outputs": [],
   "source": [
    "word = \"\"\n",
    "while True:\n",
    "    word = input(\"Enter a word: \").rstrip(\" \").rstrip(\"\\n\")\n",
    "    if word == \"quit\":\n",
    "        exit(0)\n",
    "\n",
    "    ans = []\n",
    "    features = surface_segment_data_active_preparation([word])\n",
    "    ans = xhosa_surface.predict(features)\n",
    "\n",
    "    labels = ans[0]\n",
    "    word_list = list(word)\n",
    "\n",
    "    tmp = []\n",
    "\n",
    "    for word, label in zip(word_list, labels):\n",
    "        for i in range(len(label)):\n",
    "            if label[i] == \"S\" or label[i] == \"E\":\n",
    "                tmp.append(word[i])\n",
    "                tmp.append(\"-\")\n",
    "            else:\n",
    "                tmp.append(word[i])\n",
    "    tmp = \"\".join(tmp).rstrip(\"-\")\n",
    "\n",
    "    print(\"Segmented Word: \"+tmp)\n",
    "    features = surface_labelled_data_preparation_pipeline([tmp])\n",
    "    ans = xhosa_labelled.predict(features)\n",
    "    labels = ans[0]\n",
    "    print(\"Segment Labels: \"+str(labels))"
   ],
   "metadata": {
    "collapsed": false,
    "pycharm": {
     "name": "#%%\n"
    }
   }
  },
  {
   "cell_type": "markdown",
   "source": [
    "## isiZulu"
   ],
   "metadata": {
    "collapsed": false
   }
  },
  {
   "cell_type": "code",
   "execution_count": null,
   "outputs": [],
   "source": [
    "word = \"\"\n",
    "while True:\n",
    "    word = input(\"Enter a word: \").rstrip(\" \").rstrip(\"\\n\")\n",
    "    if word == \"quit\":\n",
    "        exit(0)\n",
    "\n",
    "    ans = []\n",
    "    features = surface_segment_data_active_preparation([word])\n",
    "    ans = zulu_surface.predict(features)\n",
    "\n",
    "    labels = ans[0]\n",
    "    word_list = list(word)\n",
    "\n",
    "    tmp = []\n",
    "\n",
    "    for word, label in zip(word_list, labels):\n",
    "        for i in range(len(label)):\n",
    "            if label[i] == \"S\" or label[i] == \"E\":\n",
    "                tmp.append(word[i])\n",
    "                tmp.append(\"-\")\n",
    "            else:\n",
    "                tmp.append(word[i])\n",
    "    tmp = \"\".join(tmp).rstrip(\"-\")\n",
    "\n",
    "    print(\"Segmented Word: \"+tmp)\n",
    "    features = surface_labelled_data_preparation_pipeline([tmp])\n",
    "    ans = zulu_labelled.predict(features)\n",
    "    labels = ans[0]\n",
    "    print(\"Segment Labels: \"+str(labels))"
   ],
   "metadata": {
    "collapsed": false,
    "pycharm": {
     "name": "#%%\n"
    }
   }
  },
  {
   "cell_type": "markdown",
   "source": [
    "## siSwati"
   ],
   "metadata": {
    "collapsed": false
   }
  },
  {
   "cell_type": "code",
   "execution_count": null,
   "outputs": [],
   "source": [
    "word = \"\"\n",
    "while True:\n",
    "    word = input(\"Enter a word: \").rstrip(\" \").rstrip(\"\\n\")\n",
    "    if word == \"quit\":\n",
    "        exit(0)\n",
    "\n",
    "    ans = []\n",
    "    features = surface_segment_data_active_preparation([word])\n",
    "    ans = swati_surface.predict(features)\n",
    "\n",
    "    labels = ans[0]\n",
    "    word_list = list(word)\n",
    "\n",
    "    tmp = []\n",
    "\n",
    "    for word, label in zip(word_list, labels):\n",
    "        for i in range(len(label)):\n",
    "            if label[i] == \"S\" or label[i] == \"E\":\n",
    "                tmp.append(word[i])\n",
    "                tmp.append(\"-\")\n",
    "            else:\n",
    "                tmp.append(word[i])\n",
    "    tmp = \"\".join(tmp).rstrip(\"-\")\n",
    "\n",
    "    print(\"Segmented Word: \"+tmp)\n",
    "    features = surface_labelled_data_preparation_pipeline([tmp])\n",
    "    ans = swati_labelled.predict(features)\n",
    "    labels = ans[0]\n",
    "    print(\"Segment Labels: \"+str(labels))"
   ],
   "metadata": {
    "collapsed": false,
    "pycharm": {
     "name": "#%%\n"
    }
   }
  }
 ],
 "metadata": {
  "kernelspec": {
   "display_name": "Python 3",
   "language": "python",
   "name": "python3"
  },
  "language_info": {
   "codemirror_mode": {
    "name": "ipython",
    "version": 2
   },
   "file_extension": ".py",
   "mimetype": "text/x-python",
   "name": "python",
   "nbconvert_exporter": "python",
   "pygments_lexer": "ipython2",
   "version": "2.7.6"
  }
 },
 "nbformat": 4,
 "nbformat_minor": 0
}