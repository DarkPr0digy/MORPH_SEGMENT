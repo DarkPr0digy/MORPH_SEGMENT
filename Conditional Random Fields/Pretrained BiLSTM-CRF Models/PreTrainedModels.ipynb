{
 "cells": [
  {
   "cell_type": "markdown",
   "metadata": {
    "collapsed": true,
    "pycharm": {
     "name": "#%% md\n"
    }
   },
   "source": [
    "# BiLSTM CRF Pretrained Models\n",
    "## Tumi Moeng"
   ]
  },
  {
   "cell_type": "code",
   "source": [
    "import pickle\n",
    "import bi_lstm_crf\n",
    "import torch\n",
    "import tqdm\n",
    "import pandas\n",
    "\n",
    "# Load The Models\n",
    "isiNdebeleModel = pickle.load(open('ndebele_BiLSTM_CRF_model.sav', 'rb'))\n",
    "isiXhosaModel = pickle.load(open('xhosa_BiLSTM_CRF_model.sav', 'rb'))\n",
    "isiZuluModel = pickle.load(open('zulu_BiLSTM_CRF_model.sav', 'rb'))\n",
    "siSwatiModel = pickle.load(open('swati_BiLSTM_CRF_model.sav', 'rb'))\n",
    "\n",
    "langModels = {\"isiNdebele\": isiNdebeleModel, \"isiXhosa\": isiXhosaModel, \"isiZulu\": isiZuluModel, \"siSwati\": siSwatiModel}\n",
    "language = input(\"Select a language or quit(q): \")\n",
    "\n",
    "while language != \"q\":\n",
    "    if language in langModels.keys():\n",
    "        word = input(\"Enter a word: \")\n",
    "        tmp = langModels[language]([word], begin_tags=\"BS\")[0][0]\n",
    "\n",
    "        segmentation_representation = []\n",
    "        for i in range(len(tmp)):\n",
    "            if tmp[i] == 'BW':\n",
    "                segmentation_representation.append('B')\n",
    "            else:\n",
    "                segmentation_representation .append(tmp[i])\n",
    "\n",
    "        segmented_word = \"\"\n",
    "        for i in range(len(segmentation_representation)):\n",
    "            if segmentation_representation[i] ==\"B\":\n",
    "                segmented_word += word[i]\n",
    "            elif segmentation_representation[i] == \"E\" or segmentation_representation[i] == \"S\":\n",
    "                if (i == len(segmentation_representation) - 1):\n",
    "                    segmented_word += (word[i])\n",
    "                else:\n",
    "                    segmented_word += (word[i]+\"-\")\n",
    "            else:\n",
    "                segmented_word += word[i]\n",
    "        segmented_word.rstrip(\"-\")\n",
    "        segmented_word.lstrip(\"_\")\n",
    "\n",
    "        print(\"Segmentation Representation: \"+str(segmentation_representation))\n",
    "        print(\"Segmented Word: \"+segmented_word)\n",
    "\n",
    "    language = input(\"Select a valid language or quit(q): \")"
   ],
   "metadata": {
    "collapsed": false,
    "pycharm": {
     "name": "#%%\n"
    }
   },
   "execution_count": 16,
   "outputs": [
    {
     "name": "stdout",
     "output_type": "stream",
     "text": [
      "Segmentation Representation: ['B', 'M', 'E', 'B', 'M', 'E', 'B', 'M', 'M', 'M', 'E']\n",
      "Segmented Word: nge-zin-konzo\n"
     ]
    }
   ]
  }
 ],
 "metadata": {
  "kernelspec": {
   "display_name": "Python 3",
   "language": "python",
   "name": "python3"
  },
  "language_info": {
   "codemirror_mode": {
    "name": "ipython",
    "version": 2
   },
   "file_extension": ".py",
   "mimetype": "text/x-python",
   "name": "python",
   "nbconvert_exporter": "python",
   "pygments_lexer": "ipython2",
   "version": "2.7.6"
  }
 },
 "nbformat": 4,
 "nbformat_minor": 0
}