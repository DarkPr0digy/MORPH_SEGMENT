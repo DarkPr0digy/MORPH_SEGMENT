{
 "cells": [
  {
   "cell_type": "markdown",
   "metadata": {
    "colab_type": "text",
    "id": "aiShp2f4X2U0"
   },
   "source": [
    "## Preparing the Data\n",
    "\n",
    "As always, let's import all the required modules and set the random seeds for reproducability."
   ]
  },
  {
   "cell_type": "code",
   "execution_count": 218,
   "metadata": {
    "colab": {},
    "colab_type": "code",
    "id": "JYNqMwTIX2U2"
   },
   "outputs": [],
   "source": [
    "import torch\n",
    "import torch.nn as nn\n",
    "import torch.optim as optim\n",
    "\n",
    "import torchtext\n",
    "from torchtext.datasets import Multi30k\n",
    "from torchtext.data import Field, BucketIterator\n",
    "\n",
    "import matplotlib.pyplot as plt\n",
    "import matplotlib.ticker as ticker\n",
    "\n",
    "import spacy\n",
    "import numpy as np\n",
    "\n",
    "import random\n",
    "import math\n",
    "import time\n",
    "import re\n",
    "import unicodedata"
   ]
  },
  {
   "cell_type": "code",
   "execution_count": 219,
   "metadata": {
    "colab": {},
    "colab_type": "code",
    "id": "gnw_mFX2X2U9"
   },
   "outputs": [],
   "source": [
    "SEED = 1234\n",
    "\n",
    "random.seed(SEED)\n",
    "np.random.seed(SEED)\n",
    "torch.manual_seed(SEED)\n",
    "torch.cuda.manual_seed(SEED)\n",
    "torch.backends.cudnn.deterministic = True\n",
    "device = torch.device(\"cuda\" if torch.cuda.is_available() else \"cpu\")"
   ]
  },
  {
   "cell_type": "markdown",
   "metadata": {
    "colab_type": "text",
    "id": "NExvNpL3X2VC"
   },
   "source": [
    "We'll then create our tokenizers as before."
   ]
  },
  {
   "cell_type": "code",
   "execution_count": 19,
   "metadata": {
    "colab": {
     "base_uri": "https://localhost:8080/",
     "height": 324
    },
    "colab_type": "code",
    "id": "KpvaWcTqX2VD",
    "outputId": "4acb79ec-d501-4e90-c26a-3a47cb84d4bc"
   },
   "outputs": [],
   "source": [
    "spacy_de = spacy.load('de')\n",
    "spacy_en = spacy.load('en')"
   ]
  },
  {
   "cell_type": "code",
   "execution_count": 20,
   "metadata": {
    "colab": {},
    "colab_type": "code",
    "id": "gkCWHfn_X2VG"
   },
   "outputs": [],
   "source": [
    "def tokenize_de(text):\n",
    "    \"\"\"\n",
    "    Tokenizes German text from a string into a list of strings\n",
    "    \"\"\"\n",
    "    return [tok.text for tok in spacy_de.tokenizer(text)]\n",
    "\n",
    "def tokenize_en(text):\n",
    "    \"\"\"\n",
    "    Tokenizes English text from a string into a list of strings\n",
    "    \"\"\"\n",
    "    return [tok.text for tok in spacy_en.tokenizer(text)]"
   ]
  },
  {
   "cell_type": "markdown",
   "metadata": {
    "colab_type": "text",
    "id": "XNi-woXFX2VI"
   },
   "source": [
    "Our fields are the same as the previous notebook. The model expects data to be fed in with the batch dimension first, so we use `batch_first = True`. "
   ]
  },
  {
   "cell_type": "code",
   "execution_count": 21,
   "metadata": {
    "colab": {},
    "colab_type": "code",
    "id": "g3UNKQC7X2VJ"
   },
   "outputs": [],
   "source": [
    "SRC = Field(tokenize = tokenize_de, \n",
    "            init_token = '<sos>', \n",
    "            eos_token = '<eos>', \n",
    "            lower = True, \n",
    "            batch_first = True)\n",
    "\n",
    "TRG = Field(tokenize = tokenize_en, \n",
    "            init_token = '<sos>', \n",
    "            eos_token = '<eos>', \n",
    "            lower = True, \n",
    "            batch_first = True)"
   ]
  },
  {
   "cell_type": "markdown",
   "metadata": {
    "colab_type": "text",
    "id": "KuKAAE31X2VL"
   },
   "source": [
    "We then load the Multi30k dataset and build the vocabulary."
   ]
  },
  {
   "cell_type": "code",
   "execution_count": 22,
   "metadata": {
    "colab": {},
    "colab_type": "code",
    "id": "eco2dgZhX2VM"
   },
   "outputs": [
    {
     "name": "stdout",
     "output_type": "stream",
     "text": [
      "downloading training.tar.gz\n"
     ]
    },
    {
     "name": "stderr",
     "output_type": "stream",
     "text": [
      "training.tar.gz: 100%|██████████| 1.21M/1.21M [00:03<00:00, 336kB/s] \n"
     ]
    },
    {
     "name": "stdout",
     "output_type": "stream",
     "text": [
      "downloading validation.tar.gz\n"
     ]
    },
    {
     "name": "stderr",
     "output_type": "stream",
     "text": [
      "validation.tar.gz: 100%|██████████| 46.3k/46.3k [00:00<00:00, 138kB/s]\n"
     ]
    },
    {
     "name": "stdout",
     "output_type": "stream",
     "text": [
      "downloading mmt_task1_test2016.tar.gz\n"
     ]
    },
    {
     "name": "stderr",
     "output_type": "stream",
     "text": [
      "mmt_task1_test2016.tar.gz: 100%|██████████| 66.2k/66.2k [00:00<00:00, 107kB/s] \n"
     ]
    }
   ],
   "source": [
    "train_data, valid_data, test_data = Multi30k.splits(exts = ('.de', '.en'), \n",
    "                                                    fields = (SRC, TRG))"
   ]
  },
  {
   "cell_type": "code",
   "execution_count": 23,
   "metadata": {
    "colab": {},
    "colab_type": "code",
    "id": "XBj6w-AXX2VO"
   },
   "outputs": [],
   "source": [
    "SRC.build_vocab(train_data, min_freq = 2)\n",
    "TRG.build_vocab(train_data, min_freq = 2)"
   ]
  },
  {
   "cell_type": "markdown",
   "metadata": {
    "colab_type": "text",
    "id": "lxnR9O3PX2VQ"
   },
   "source": [
    "Finally, we define the device and the data iterator."
   ]
  },
  {
   "cell_type": "code",
   "execution_count": 24,
   "metadata": {
    "colab": {},
    "colab_type": "code",
    "id": "yJZ7Q7vkX2VQ"
   },
   "outputs": [],
   "source": [
    "device = torch.device('cuda' if torch.cuda.is_available() else 'cpu')"
   ]
  },
  {
   "cell_type": "code",
   "execution_count": 220,
   "metadata": {
    "colab": {},
    "colab_type": "code",
    "id": "sWZZPAtNX2VR"
   },
   "outputs": [],
   "source": [
    "BATCH_SIZE = 1\n",
    "\n",
    "train_iterator, valid_iterator, test_iterator = BucketIterator.splits(\n",
    "    (train_data, valid_data, test_data), \n",
    "     batch_size = BATCH_SIZE,\n",
    "     device = device)"
   ]
  },
  {
   "cell_type": "code",
   "execution_count": 261,
   "metadata": {},
   "outputs": [
    {
     "name": "stdout",
     "output_type": "stream",
     "text": [
      "Reading lines...\n",
      "Read 17778 sentence pairs\n",
      "Trimmed to 17778 sentence pairs\n",
      "Counting words...\n",
      "Counted words:\n",
      "zulu 43\n",
      "train 46\n",
      "{0: '<', 1: '>', 2: 'n', 3: 'g', 4: 'e', 5: 'z', 6: 'i', 7: 'k', 8: 'o', 9: 'y', 10: 'm', 11: 'u', 12: 'w', 13: 't', 14: 'h', 15: 'l', 16: 'a', 17: 'b', 18: 'p', 19: 'd', 20: 'q', 21: 's', 22: 'x', 23: 'r', 24: 'c', 25: 'v', 26: 'f', 27: 'j', 28: \"'\", 29: '2', 30: '9', 31: '0', 32: '4', 33: '7', 34: '3', 35: '1', 36: '8', 37: '5', 38: '6', 39: '.', 40: '\"', 41: ',', 42: '%'}\n",
      "{'n': 2, 'g': 3, 'a': 4, '-': 5, 'i': 6, 'z': 7, 'k': 8, 'o': 9, 'y': 10, 'l': 11, 'm': 12, 'u': 13, 'w': 14, 't': 15, 'h': 16, 'b': 17, 'e': 18, 'p': 19, 'd': 20, 'q': 21, 's': 22, 'x': 23, 'r': 24, 'c': 25, 'v': 26, 'f': 27, 'j': 28, '(': 29, ')': 30, \"'\": 31, '2': 32, '9': 33, '0': 34, '4': 35, '7': 36, '3': 37, '1': 38, '8': 39, '5': 40, '6': 41, '.': 42, '\"': 43, ',': 44, '%': 45}\n",
      "['zimpahla', 'zin-phahla']\n"
     ]
    }
   ],
   "source": [
    "SOS_token = 0\n",
    "EOS_token = 1\n",
    "PAD_token = 2\n",
    "\n",
    "class Lang:\n",
    "    def __init__(self, name):\n",
    "        self.name = name\n",
    "        self.char2index = {}\n",
    "        self.char2count = {}\n",
    "        self.index2char = {0: \"<\", 1: \">\", 2: \"+\"}\n",
    "        self.n_chars = 2  # Count SOS and EOS\n",
    "\n",
    "    def addWord(self, word):\n",
    "        for character in list(word):\n",
    "            self.addCharacter(character)\n",
    "\n",
    "    def addCharacter(self, character):\n",
    "        if character not in self.char2index:\n",
    "            self.char2index[character] = self.n_chars\n",
    "            self.char2count[character] = 1\n",
    "            self.index2char[self.n_chars] = character\n",
    "            self.n_chars += 1\n",
    "        else:\n",
    "            self.char2count[character] += 1\n",
    "\n",
    "\n",
    "def unicodeToAscii(s):\n",
    "    return ''.join(\n",
    "        c for c in unicodedata.normalize('NFD', s)\n",
    "        if unicodedata.category(c) != 'Mn'\n",
    "    )\n",
    "\n",
    "\n",
    "\n",
    "def readLangs(lang1, lang2, reverse=False):\n",
    "    print(\"Reading lines...\")\n",
    "\n",
    "    # Read the file and split into lines\n",
    "    lines = open('../data/zulu/zulu.clean.train.conll', encoding='utf-8').\\\n",
    "        read().strip().split('\\n')\n",
    "    data = []\n",
    "    for line in lines:\n",
    "        line = line.split(\" | \")\n",
    "        ortho = removeTags(line[3])\n",
    "        data.append(line[0] + \"\\t\" + ortho)\n",
    "    # Split every line into pairs and normalize\n",
    "    #print(data)\n",
    "    pairs = [[normalizeString(s) for s in l.split('\\t')] for l in data]\n",
    "\n",
    "    # Reverse pairs, make Lang instances\n",
    "    if reverse:\n",
    "        pairs = [list(reversed(p)) for p in pairs]\n",
    "        input_lang = Lang(lang2)\n",
    "        output_lang = Lang(lang1)\n",
    "    else:\n",
    "        input_lang = Lang(lang1)\n",
    "        output_lang = Lang(lang2)\n",
    "\n",
    "    return input_lang, output_lang, pairs\n",
    "\n",
    "\n",
    "def normalizeString(s):\n",
    "    s = unicodeToAscii(s.lower().strip())\n",
    "    #s = re.sub(r\"([.!?])\", r\" \\1\", s)\n",
    "    #s = re.sub(r\"[^a-zA-Z.!?]+\", r\" \", s)\n",
    "    return s\n",
    "\n",
    "\n",
    "\n",
    "MAX_LENGTH = 40\n",
    "\n",
    "def filterPair(p):\n",
    "    return p\n",
    "\n",
    "\n",
    "def filterPairs(pairs):\n",
    "    return [pair for pair in pairs if filterPair(pair)]\n",
    "\n",
    "def removeTags(segments):\n",
    "    ortho = re.sub(\"([\\(\\[]).*?([\\)\\]])\", \"\\g<1>\\g<2>\", segments)\n",
    "    ortho = ortho.replace(\"[]\",\"-\")[:-1]\n",
    "\n",
    "    return ortho\n",
    "\n",
    "\n",
    "def prepareData(lang1, lang2, reverse=False):\n",
    "    input_lang, output_lang, pairs = readLangs(lang1, lang2, reverse)\n",
    "    print(\"Read %s sentence pairs\" % len(pairs))\n",
    "    pairs = filterPairs(pairs)\n",
    "    print(\"Trimmed to %s sentence pairs\" % len(pairs))\n",
    "    print(\"Counting words...\")\n",
    "    for pair in pairs:\n",
    "        input_lang.addWord(pair[0])\n",
    "        output_lang.addWord(pair[1])\n",
    "    print(\"Counted words:\")\n",
    "    print(input_lang.name, input_lang.n_chars)\n",
    "    print(output_lang.name, output_lang.n_chars)\n",
    "    return input_lang, output_lang, pairs\n",
    "\n",
    "\n",
    "input_lang, output_lang, pairs = prepareData('zulu', 'train', False)\n",
    "print(input_lang.index2char)\n",
    "print(output_lang.char2index)\n",
    "\n",
    "print(random.choice(pairs))"
   ]
  },
  {
   "cell_type": "code",
   "execution_count": 222,
   "metadata": {},
   "outputs": [
    {
     "name": "stdout",
     "output_type": "stream",
     "text": [
      "torch.Size([6, 1]) torch.Size([10, 1])\n",
      "u-lu-limi>\n",
      "ulimi>"
     ]
    }
   ],
   "source": [
    "def indexesFromWord(lang, word):\n",
    "    return [lang.char2index[char] for char in list(word)]\n",
    "\n",
    "\n",
    "def tensorFromWord(lang, word):\n",
    "    indexes = indexesFromWord(lang, word)\n",
    "    # while(len(indexes)!=MAX_LENGTH-1):\n",
    "    #     indexes.append(PAD_token)\n",
    "    indexes.append(EOS_token)\n",
    "    return torch.tensor(indexes, dtype=torch.long, device=device).view(-1, 1)\n",
    "\n",
    "\n",
    "def tensorsFromPair(pair):\n",
    "    input_tensor = tensorFromWord(input_lang, pair[0])\n",
    "    target_tensor = tensorFromWord(output_lang, pair[1])\n",
    "    return (input_tensor, target_tensor)\n",
    "\n",
    "training_pairs = [tensorsFromPair(random.choice(pairs))\n",
    "                      for i in range(1)]\n",
    "#print(training_pairs[0])print(training_pairs[0][1].shape)\n",
    "print(training_pairs[0][0].shape, training_pairs[0][1].shape)\n",
    "for c in training_pairs[0][1]:\n",
    "    print(output_lang.index2char[c.item()], end='')\n",
    "    \n",
    "print(\"\")\n",
    "for c in training_pairs[0][0]:\n",
    "    print(input_lang.index2char[c.item()], end='')\n",
    "\n"
   ]
  },
  {
   "cell_type": "code",
   "execution_count": 223,
   "metadata": {
    "colab": {},
    "colab_type": "code",
    "id": "cgFc3EGHX2VU"
   },
   "outputs": [],
   "source": [
    "class Encoder(nn.Module):\n",
    "    def __init__(self, \n",
    "                 input_dim, \n",
    "                 hid_dim, \n",
    "                 n_layers, \n",
    "                 n_heads, \n",
    "                 pf_dim,\n",
    "                 dropout, \n",
    "                 device,\n",
    "                 max_length = 100):\n",
    "        super().__init__()\n",
    "\n",
    "        self.device = device\n",
    "        \n",
    "        self.tok_embedding = nn.Embedding(input_dim, hid_dim)\n",
    "        self.pos_embedding = nn.Embedding(max_length, hid_dim)\n",
    "        \n",
    "        self.layers = nn.ModuleList([EncoderLayer(hid_dim, \n",
    "                                                  n_heads, \n",
    "                                                  pf_dim,\n",
    "                                                  dropout, \n",
    "                                                  device) \n",
    "                                     for _ in range(n_layers)])\n",
    "        \n",
    "        self.dropout = nn.Dropout(dropout)\n",
    "        \n",
    "        self.scale = torch.sqrt(torch.FloatTensor([hid_dim])).to(device)\n",
    "        \n",
    "    def forward(self, src, src_mask):\n",
    "        \n",
    "        #src = [batch size, src len]\n",
    "        #src_mask = [batch size, src len]\n",
    "        \n",
    "        batch_size = src.shape[0]\n",
    "        src_len = src.shape[1]\n",
    "        \n",
    "        pos = torch.arange(0, src_len).unsqueeze(0).repeat(batch_size, 1).to(self.device)\n",
    "        \n",
    "        #pos = [batch size, src len]\n",
    "        \n",
    "        src = self.dropout((self.tok_embedding(src) * self.scale) + self.pos_embedding(pos))\n",
    "        \n",
    "        #src = [batch size, src len, hid dim]\n",
    "        \n",
    "        for layer in self.layers:\n",
    "            src = layer(src, src_mask)\n",
    "            \n",
    "        #src = [batch size, src len, hid dim]\n",
    "            \n",
    "        return src"
   ]
  },
  {
   "cell_type": "code",
   "execution_count": 224,
   "metadata": {
    "colab": {},
    "colab_type": "code",
    "id": "aEtefyRVX2VV"
   },
   "outputs": [],
   "source": [
    "class EncoderLayer(nn.Module):\n",
    "    def __init__(self, \n",
    "                 hid_dim, \n",
    "                 n_heads, \n",
    "                 pf_dim,  \n",
    "                 dropout, \n",
    "                 device):\n",
    "        super().__init__()\n",
    "        \n",
    "        self.self_attn_layer_norm = nn.LayerNorm(hid_dim)\n",
    "        self.ff_layer_norm = nn.LayerNorm(hid_dim)\n",
    "        self.self_attention = MultiHeadAttentionLayer(hid_dim, n_heads, dropout, device)\n",
    "        self.positionwise_feedforward = PositionwiseFeedforwardLayer(hid_dim, \n",
    "                                                                     pf_dim, \n",
    "                                                                     dropout)\n",
    "        self.dropout = nn.Dropout(dropout)\n",
    "        \n",
    "    def forward(self, src, src_mask):\n",
    "        \n",
    "        #src = [batch size, src len, hid dim]\n",
    "        #src_mask = [batch size, src len]\n",
    "                \n",
    "        #self attention\n",
    "        _src, _ = self.self_attention(src, src, src, src_mask)\n",
    "        \n",
    "        #dropout, residual connection and layer norm\n",
    "        src = self.self_attn_layer_norm(src + self.dropout(_src))\n",
    "        \n",
    "        #src = [batch size, src len, hid dim]\n",
    "        \n",
    "        #positionwise feedforward\n",
    "        _src = self.positionwise_feedforward(src)\n",
    "        \n",
    "        #dropout, residual and layer norm\n",
    "        src = self.ff_layer_norm(src + self.dropout(_src))\n",
    "        \n",
    "        #src = [batch size, src len, hid dim]\n",
    "        \n",
    "        return src"
   ]
  },
  {
   "cell_type": "code",
   "execution_count": 225,
   "metadata": {
    "colab": {},
    "colab_type": "code",
    "id": "JDvemMo1X2VZ"
   },
   "outputs": [],
   "source": [
    "class MultiHeadAttentionLayer(nn.Module):\n",
    "    def __init__(self, hid_dim, n_heads, dropout, device):\n",
    "        super().__init__()\n",
    "        \n",
    "        assert hid_dim % n_heads == 0\n",
    "        \n",
    "        self.hid_dim = hid_dim\n",
    "        self.n_heads = n_heads\n",
    "        self.head_dim = hid_dim // n_heads\n",
    "        \n",
    "        self.fc_q = nn.Linear(hid_dim, hid_dim)\n",
    "        self.fc_k = nn.Linear(hid_dim, hid_dim)\n",
    "        self.fc_v = nn.Linear(hid_dim, hid_dim)\n",
    "        \n",
    "        self.fc_o = nn.Linear(hid_dim, hid_dim)\n",
    "        \n",
    "        self.dropout = nn.Dropout(dropout)\n",
    "        \n",
    "        self.scale = torch.sqrt(torch.FloatTensor([self.head_dim])).to(device)\n",
    "        \n",
    "    def forward(self, query, key, value, mask = None):\n",
    "        \n",
    "        batch_size = query.shape[0]\n",
    "        \n",
    "        #query = [batch size, query len, hid dim]\n",
    "        #key = [batch size, key len, hid dim]\n",
    "        #value = [batch size, value len, hid dim]\n",
    "                \n",
    "        Q = self.fc_q(query)\n",
    "        K = self.fc_k(key)\n",
    "        V = self.fc_v(value)\n",
    "        \n",
    "        #Q = [batch size, query len, hid dim]\n",
    "        #K = [batch size, key len, hid dim]\n",
    "        #V = [batch size, value len, hid dim]\n",
    "                \n",
    "        Q = Q.view(batch_size, -1, self.n_heads, self.head_dim).permute(0, 2, 1, 3)\n",
    "        K = K.view(batch_size, -1, self.n_heads, self.head_dim).permute(0, 2, 1, 3)\n",
    "        V = V.view(batch_size, -1, self.n_heads, self.head_dim).permute(0, 2, 1, 3)\n",
    "        \n",
    "        #Q = [batch size, n heads, query len, head dim]\n",
    "        #K = [batch size, n heads, key len, head dim]\n",
    "        #V = [batch size, n heads, value len, head dim]\n",
    "                \n",
    "        energy = torch.matmul(Q, K.permute(0, 1, 3, 2)) / self.scale\n",
    "        \n",
    "        #energy = [batch size, n heads, query len, key len]\n",
    "        \n",
    "        if mask is not None:\n",
    "            energy = energy.masked_fill(mask == 0, -1e10)\n",
    "        \n",
    "        attention = torch.softmax(energy, dim = -1)\n",
    "                \n",
    "        #attention = [batch size, n heads, query len, key len]\n",
    "                \n",
    "        x = torch.matmul(self.dropout(attention), V)\n",
    "        \n",
    "        #x = [batch size, n heads, query len, head dim]\n",
    "        \n",
    "        x = x.permute(0, 2, 1, 3).contiguous()\n",
    "        \n",
    "        #x = [batch size, query len, n heads, head dim]\n",
    "        \n",
    "        x = x.view(batch_size, -1, self.hid_dim)\n",
    "        \n",
    "        #x = [batch size, query len, hid dim]\n",
    "        \n",
    "        x = self.fc_o(x)\n",
    "        \n",
    "        #x = [batch size, query len, hid dim]\n",
    "        \n",
    "        return x, attention"
   ]
  },
  {
   "cell_type": "code",
   "execution_count": 226,
   "metadata": {
    "colab": {},
    "colab_type": "code",
    "id": "tVbluMHyX2Vb"
   },
   "outputs": [],
   "source": [
    "class PositionwiseFeedforwardLayer(nn.Module):\n",
    "    def __init__(self, hid_dim, pf_dim, dropout):\n",
    "        super().__init__()\n",
    "        \n",
    "        self.fc_1 = nn.Linear(hid_dim, pf_dim)\n",
    "        self.fc_2 = nn.Linear(pf_dim, hid_dim)\n",
    "        \n",
    "        self.dropout = nn.Dropout(dropout)\n",
    "        \n",
    "    def forward(self, x):\n",
    "        \n",
    "        #x = [batch size, seq len, hid dim]\n",
    "        \n",
    "        x = self.dropout(torch.relu(self.fc_1(x)))\n",
    "        \n",
    "        #x = [batch size, seq len, pf dim]\n",
    "        \n",
    "        x = self.fc_2(x)\n",
    "        \n",
    "        #x = [batch size, seq len, hid dim]\n",
    "        \n",
    "        return x"
   ]
  },
  {
   "cell_type": "code",
   "execution_count": 227,
   "metadata": {
    "colab": {},
    "colab_type": "code",
    "id": "vUuCyibuX2Vc"
   },
   "outputs": [],
   "source": [
    "class Decoder(nn.Module):\n",
    "    def __init__(self, \n",
    "                 output_dim, \n",
    "                 hid_dim, \n",
    "                 n_layers, \n",
    "                 n_heads, \n",
    "                 pf_dim, \n",
    "                 dropout, \n",
    "                 device,\n",
    "                 max_length = 100):\n",
    "        super().__init__()\n",
    "        \n",
    "        self.device = device\n",
    "        \n",
    "        self.tok_embedding = nn.Embedding(output_dim, hid_dim)\n",
    "        self.pos_embedding = nn.Embedding(max_length, hid_dim)\n",
    "        \n",
    "        self.layers = nn.ModuleList([DecoderLayer(hid_dim, \n",
    "                                                  n_heads, \n",
    "                                                  pf_dim, \n",
    "                                                  dropout, \n",
    "                                                  device)\n",
    "                                     for _ in range(n_layers)])\n",
    "        \n",
    "        self.fc_out = nn.Linear(hid_dim, output_dim)\n",
    "        \n",
    "        self.dropout = nn.Dropout(dropout)\n",
    "        \n",
    "        self.scale = torch.sqrt(torch.FloatTensor([hid_dim])).to(device)\n",
    "        \n",
    "    def forward(self, trg, enc_src, trg_mask, src_mask):\n",
    "        \n",
    "        #trg = [batch size, trg len]\n",
    "        #enc_src = [batch size, src len, hid dim]\n",
    "        #trg_mask = [batch size, trg len]\n",
    "        #src_mask = [batch size, src len]\n",
    "                \n",
    "        batch_size = trg.shape[0]\n",
    "        trg_len = trg.shape[1]\n",
    "        \n",
    "        pos = torch.arange(0, trg_len).unsqueeze(0).repeat(batch_size, 1).to(self.device)\n",
    "                            \n",
    "        #pos = [batch size, trg len]\n",
    "            \n",
    "        trg = self.dropout((self.tok_embedding(trg) * self.scale) + self.pos_embedding(pos))\n",
    "                \n",
    "        #trg = [batch size, trg len, hid dim]\n",
    "        \n",
    "        for layer in self.layers:\n",
    "            trg, attention = layer(trg, enc_src, trg_mask, src_mask)\n",
    "        \n",
    "        #trg = [batch size, trg len, hid dim]\n",
    "        #attention = [batch size, n heads, trg len, src len]\n",
    "        \n",
    "        output = self.fc_out(trg)\n",
    "        \n",
    "        #output = [batch size, trg len, output dim]\n",
    "            \n",
    "        return output, attention"
   ]
  },
  {
   "cell_type": "code",
   "execution_count": 228,
   "metadata": {
    "colab": {},
    "colab_type": "code",
    "id": "vpxAN3HSX2Vf"
   },
   "outputs": [],
   "source": [
    "class DecoderLayer(nn.Module):\n",
    "    def __init__(self, \n",
    "                 hid_dim, \n",
    "                 n_heads, \n",
    "                 pf_dim, \n",
    "                 dropout, \n",
    "                 device):\n",
    "        super().__init__()\n",
    "        \n",
    "        self.self_attn_layer_norm = nn.LayerNorm(hid_dim)\n",
    "        self.enc_attn_layer_norm = nn.LayerNorm(hid_dim)\n",
    "        self.ff_layer_norm = nn.LayerNorm(hid_dim)\n",
    "        self.self_attention = MultiHeadAttentionLayer(hid_dim, n_heads, dropout, device)\n",
    "        self.encoder_attention = MultiHeadAttentionLayer(hid_dim, n_heads, dropout, device)\n",
    "        self.positionwise_feedforward = PositionwiseFeedforwardLayer(hid_dim, \n",
    "                                                                     pf_dim, \n",
    "                                                                     dropout)\n",
    "        self.dropout = nn.Dropout(dropout)\n",
    "        \n",
    "    def forward(self, trg, enc_src, trg_mask, src_mask):\n",
    "        \n",
    "        #trg = [batch size, trg len, hid dim]\n",
    "        #enc_src = [batch size, src len, hid dim]\n",
    "        #trg_mask = [batch size, trg len]\n",
    "        #src_mask = [batch size, src len]\n",
    "        \n",
    "        #self attention\n",
    "        _trg, _ = self.self_attention(trg, trg, trg, trg_mask)\n",
    "        \n",
    "        #dropout, residual connection and layer norm\n",
    "        trg = self.self_attn_layer_norm(trg + self.dropout(_trg))\n",
    "            \n",
    "        #trg = [batch size, trg len, hid dim]\n",
    "            \n",
    "        #encoder attention\n",
    "        _trg, attention = self.encoder_attention(trg, enc_src, enc_src, src_mask)\n",
    "        \n",
    "        #dropout, residual connection and layer norm\n",
    "        trg = self.enc_attn_layer_norm(trg + self.dropout(_trg))\n",
    "                    \n",
    "        #trg = [batch size, trg len, hid dim]\n",
    "        \n",
    "        #positionwise feedforward\n",
    "        _trg = self.positionwise_feedforward(trg)\n",
    "        \n",
    "        #dropout, residual and layer norm\n",
    "        trg = self.ff_layer_norm(trg + self.dropout(_trg))\n",
    "        \n",
    "        #trg = [batch size, trg len, hid dim]\n",
    "        #attention = [batch size, n heads, trg len, src len]\n",
    "        \n",
    "        return trg, attention"
   ]
  },
  {
   "cell_type": "code",
   "execution_count": 282,
   "metadata": {
    "colab": {},
    "colab_type": "code",
    "id": "LND35KcAX2Vh"
   },
   "outputs": [],
   "source": [
    "class Seq2Seq(nn.Module):\n",
    "    def __init__(self, \n",
    "                 encoder, \n",
    "                 decoder, \n",
    "                 src_pad_idx, \n",
    "                 trg_pad_idx, \n",
    "                 device):\n",
    "        super().__init__()\n",
    "        \n",
    "        self.encoder = encoder\n",
    "        self.decoder = decoder\n",
    "        self.src_pad_idx = src_pad_idx\n",
    "        self.trg_pad_idx = trg_pad_idx\n",
    "        self.device = device\n",
    "        \n",
    "    def make_src_mask(self, src):\n",
    "        \n",
    "        #src = [batch size, src len]\n",
    "        \n",
    "        src_mask = (src != self.src_pad_idx).unsqueeze(1).unsqueeze(2)\n",
    "\n",
    "        #src_mask = [batch size, 1, 1, src len]\n",
    "\n",
    "        return src_mask\n",
    "    \n",
    "    def make_trg_mask(self, trg):\n",
    "        \n",
    "        #trg = [batch size, trg len]\n",
    "        \n",
    "        trg_pad_mask = (trg != self.trg_pad_idx).unsqueeze(1).unsqueeze(2)\n",
    "        \n",
    "        #trg_pad_mask = [batch size, 1, 1, trg len]\n",
    "        \n",
    "        trg_len = trg.shape[1]\n",
    "        \n",
    "        trg_sub_mask = torch.tril(torch.ones((trg_len, trg_len), device = self.device)).bool()\n",
    "        \n",
    "        #trg_sub_mask = [trg len, trg len]\n",
    "            \n",
    "        trg_mask = trg_pad_mask & trg_sub_mask\n",
    "        \n",
    "        #trg_mask = [batch size, 1, trg len, trg len]\n",
    "        \n",
    "        return trg_mask\n",
    "\n",
    "    def forward(self, src, trg):\n",
    "        \n",
    "        #src = [batch size, src len]\n",
    "        #trg = [batch size, trg len]\n",
    "        \n",
    "        src_mask = self.make_src_mask(src)\n",
    "        trg_mask = self.make_trg_mask(trg)\n",
    "#         print(\"SRC MASK: \", src_mask)\n",
    "#         print(\"TRG MASK: \", trg_mask)\n",
    "        #src_mask = [batch size, 1, 1, src len]\n",
    "        #trg_mask = [batch size, 1, trg len, trg len]\n",
    "        \n",
    "        enc_src = self.encoder(src, src_mask)\n",
    "        \n",
    "        #enc_src = [batch size, src len, hid dim]\n",
    "                \n",
    "        output, attention = self.decoder(trg, enc_src, trg_mask, src_mask)\n",
    "        \n",
    "        #output = [batch size, trg len, output dim]\n",
    "        #attention = [batch size, n heads, trg len, src len]\n",
    "        \n",
    "        return output, attention"
   ]
  },
  {
   "cell_type": "code",
   "execution_count": 234,
   "metadata": {},
   "outputs": [
    {
     "name": "stdout",
     "output_type": "stream",
     "text": [
      "43\n"
     ]
    }
   ],
   "source": [
    "print(input_lang.n_chars)"
   ]
  },
  {
   "cell_type": "code",
   "execution_count": 248,
   "metadata": {
    "colab": {},
    "colab_type": "code",
    "id": "SdP38T6cX2Vj"
   },
   "outputs": [],
   "source": [
    "INPUT_DIM = input_lang.n_chars\n",
    "OUTPUT_DIM = output_lang.n_chars\n",
    "HID_DIM = 256\n",
    "ENC_LAYERS = 3\n",
    "DEC_LAYERS = 3\n",
    "ENC_HEADS = 8\n",
    "DEC_HEADS = 8\n",
    "ENC_PF_DIM = 512\n",
    "DEC_PF_DIM = 512\n",
    "ENC_DROPOUT = 0.1\n",
    "DEC_DROPOUT = 0.1\n",
    "\n",
    "enc = Encoder(INPUT_DIM, \n",
    "              HID_DIM, \n",
    "              ENC_LAYERS, \n",
    "              ENC_HEADS, \n",
    "              ENC_PF_DIM, \n",
    "              ENC_DROPOUT, \n",
    "              device)\n",
    "\n",
    "dec = Decoder(OUTPUT_DIM, \n",
    "              HID_DIM, \n",
    "              DEC_LAYERS, \n",
    "              DEC_HEADS, \n",
    "              DEC_PF_DIM, \n",
    "              DEC_DROPOUT, \n",
    "              device)"
   ]
  },
  {
   "cell_type": "markdown",
   "metadata": {
    "colab_type": "text",
    "id": "zm-Iblb0X2Vq"
   },
   "source": [
    "Then, use them to define our whole sequence-to-sequence encapsulating model."
   ]
  },
  {
   "cell_type": "code",
   "execution_count": 329,
   "metadata": {
    "colab": {},
    "colab_type": "code",
    "id": "DyPrxhjEX2Vr"
   },
   "outputs": [
    {
     "name": "stdout",
     "output_type": "stream",
     "text": [
      "Seq2Seq(\n",
      "  (encoder): Encoder(\n",
      "    (tok_embedding): Embedding(43, 256)\n",
      "    (pos_embedding): Embedding(100, 256)\n",
      "    (layers): ModuleList(\n",
      "      (0): EncoderLayer(\n",
      "        (self_attn_layer_norm): LayerNorm((256,), eps=1e-05, elementwise_affine=True)\n",
      "        (ff_layer_norm): LayerNorm((256,), eps=1e-05, elementwise_affine=True)\n",
      "        (self_attention): MultiHeadAttentionLayer(\n",
      "          (fc_q): Linear(in_features=256, out_features=256, bias=True)\n",
      "          (fc_k): Linear(in_features=256, out_features=256, bias=True)\n",
      "          (fc_v): Linear(in_features=256, out_features=256, bias=True)\n",
      "          (fc_o): Linear(in_features=256, out_features=256, bias=True)\n",
      "          (dropout): Dropout(p=0.1, inplace=False)\n",
      "        )\n",
      "        (positionwise_feedforward): PositionwiseFeedforwardLayer(\n",
      "          (fc_1): Linear(in_features=256, out_features=512, bias=True)\n",
      "          (fc_2): Linear(in_features=512, out_features=256, bias=True)\n",
      "          (dropout): Dropout(p=0.1, inplace=False)\n",
      "        )\n",
      "        (dropout): Dropout(p=0.1, inplace=False)\n",
      "      )\n",
      "      (1): EncoderLayer(\n",
      "        (self_attn_layer_norm): LayerNorm((256,), eps=1e-05, elementwise_affine=True)\n",
      "        (ff_layer_norm): LayerNorm((256,), eps=1e-05, elementwise_affine=True)\n",
      "        (self_attention): MultiHeadAttentionLayer(\n",
      "          (fc_q): Linear(in_features=256, out_features=256, bias=True)\n",
      "          (fc_k): Linear(in_features=256, out_features=256, bias=True)\n",
      "          (fc_v): Linear(in_features=256, out_features=256, bias=True)\n",
      "          (fc_o): Linear(in_features=256, out_features=256, bias=True)\n",
      "          (dropout): Dropout(p=0.1, inplace=False)\n",
      "        )\n",
      "        (positionwise_feedforward): PositionwiseFeedforwardLayer(\n",
      "          (fc_1): Linear(in_features=256, out_features=512, bias=True)\n",
      "          (fc_2): Linear(in_features=512, out_features=256, bias=True)\n",
      "          (dropout): Dropout(p=0.1, inplace=False)\n",
      "        )\n",
      "        (dropout): Dropout(p=0.1, inplace=False)\n",
      "      )\n",
      "      (2): EncoderLayer(\n",
      "        (self_attn_layer_norm): LayerNorm((256,), eps=1e-05, elementwise_affine=True)\n",
      "        (ff_layer_norm): LayerNorm((256,), eps=1e-05, elementwise_affine=True)\n",
      "        (self_attention): MultiHeadAttentionLayer(\n",
      "          (fc_q): Linear(in_features=256, out_features=256, bias=True)\n",
      "          (fc_k): Linear(in_features=256, out_features=256, bias=True)\n",
      "          (fc_v): Linear(in_features=256, out_features=256, bias=True)\n",
      "          (fc_o): Linear(in_features=256, out_features=256, bias=True)\n",
      "          (dropout): Dropout(p=0.1, inplace=False)\n",
      "        )\n",
      "        (positionwise_feedforward): PositionwiseFeedforwardLayer(\n",
      "          (fc_1): Linear(in_features=256, out_features=512, bias=True)\n",
      "          (fc_2): Linear(in_features=512, out_features=256, bias=True)\n",
      "          (dropout): Dropout(p=0.1, inplace=False)\n",
      "        )\n",
      "        (dropout): Dropout(p=0.1, inplace=False)\n",
      "      )\n",
      "    )\n",
      "    (dropout): Dropout(p=0.1, inplace=False)\n",
      "  )\n",
      "  (decoder): Decoder(\n",
      "    (tok_embedding): Embedding(46, 256)\n",
      "    (pos_embedding): Embedding(100, 256)\n",
      "    (layers): ModuleList(\n",
      "      (0): DecoderLayer(\n",
      "        (self_attn_layer_norm): LayerNorm((256,), eps=1e-05, elementwise_affine=True)\n",
      "        (enc_attn_layer_norm): LayerNorm((256,), eps=1e-05, elementwise_affine=True)\n",
      "        (ff_layer_norm): LayerNorm((256,), eps=1e-05, elementwise_affine=True)\n",
      "        (self_attention): MultiHeadAttentionLayer(\n",
      "          (fc_q): Linear(in_features=256, out_features=256, bias=True)\n",
      "          (fc_k): Linear(in_features=256, out_features=256, bias=True)\n",
      "          (fc_v): Linear(in_features=256, out_features=256, bias=True)\n",
      "          (fc_o): Linear(in_features=256, out_features=256, bias=True)\n",
      "          (dropout): Dropout(p=0.1, inplace=False)\n",
      "        )\n",
      "        (encoder_attention): MultiHeadAttentionLayer(\n",
      "          (fc_q): Linear(in_features=256, out_features=256, bias=True)\n",
      "          (fc_k): Linear(in_features=256, out_features=256, bias=True)\n",
      "          (fc_v): Linear(in_features=256, out_features=256, bias=True)\n",
      "          (fc_o): Linear(in_features=256, out_features=256, bias=True)\n",
      "          (dropout): Dropout(p=0.1, inplace=False)\n",
      "        )\n",
      "        (positionwise_feedforward): PositionwiseFeedforwardLayer(\n",
      "          (fc_1): Linear(in_features=256, out_features=512, bias=True)\n",
      "          (fc_2): Linear(in_features=512, out_features=256, bias=True)\n",
      "          (dropout): Dropout(p=0.1, inplace=False)\n",
      "        )\n",
      "        (dropout): Dropout(p=0.1, inplace=False)\n",
      "      )\n",
      "      (1): DecoderLayer(\n",
      "        (self_attn_layer_norm): LayerNorm((256,), eps=1e-05, elementwise_affine=True)\n",
      "        (enc_attn_layer_norm): LayerNorm((256,), eps=1e-05, elementwise_affine=True)\n",
      "        (ff_layer_norm): LayerNorm((256,), eps=1e-05, elementwise_affine=True)\n",
      "        (self_attention): MultiHeadAttentionLayer(\n",
      "          (fc_q): Linear(in_features=256, out_features=256, bias=True)\n",
      "          (fc_k): Linear(in_features=256, out_features=256, bias=True)\n",
      "          (fc_v): Linear(in_features=256, out_features=256, bias=True)\n",
      "          (fc_o): Linear(in_features=256, out_features=256, bias=True)\n",
      "          (dropout): Dropout(p=0.1, inplace=False)\n",
      "        )\n",
      "        (encoder_attention): MultiHeadAttentionLayer(\n",
      "          (fc_q): Linear(in_features=256, out_features=256, bias=True)\n",
      "          (fc_k): Linear(in_features=256, out_features=256, bias=True)\n",
      "          (fc_v): Linear(in_features=256, out_features=256, bias=True)\n",
      "          (fc_o): Linear(in_features=256, out_features=256, bias=True)\n",
      "          (dropout): Dropout(p=0.1, inplace=False)\n",
      "        )\n",
      "        (positionwise_feedforward): PositionwiseFeedforwardLayer(\n",
      "          (fc_1): Linear(in_features=256, out_features=512, bias=True)\n",
      "          (fc_2): Linear(in_features=512, out_features=256, bias=True)\n",
      "          (dropout): Dropout(p=0.1, inplace=False)\n",
      "        )\n",
      "        (dropout): Dropout(p=0.1, inplace=False)\n",
      "      )\n",
      "      (2): DecoderLayer(\n",
      "        (self_attn_layer_norm): LayerNorm((256,), eps=1e-05, elementwise_affine=True)\n",
      "        (enc_attn_layer_norm): LayerNorm((256,), eps=1e-05, elementwise_affine=True)\n",
      "        (ff_layer_norm): LayerNorm((256,), eps=1e-05, elementwise_affine=True)\n",
      "        (self_attention): MultiHeadAttentionLayer(\n",
      "          (fc_q): Linear(in_features=256, out_features=256, bias=True)\n",
      "          (fc_k): Linear(in_features=256, out_features=256, bias=True)\n",
      "          (fc_v): Linear(in_features=256, out_features=256, bias=True)\n",
      "          (fc_o): Linear(in_features=256, out_features=256, bias=True)\n",
      "          (dropout): Dropout(p=0.1, inplace=False)\n",
      "        )\n",
      "        (encoder_attention): MultiHeadAttentionLayer(\n",
      "          (fc_q): Linear(in_features=256, out_features=256, bias=True)\n",
      "          (fc_k): Linear(in_features=256, out_features=256, bias=True)\n",
      "          (fc_v): Linear(in_features=256, out_features=256, bias=True)\n",
      "          (fc_o): Linear(in_features=256, out_features=256, bias=True)\n",
      "          (dropout): Dropout(p=0.1, inplace=False)\n",
      "        )\n",
      "        (positionwise_feedforward): PositionwiseFeedforwardLayer(\n",
      "          (fc_1): Linear(in_features=256, out_features=512, bias=True)\n",
      "          (fc_2): Linear(in_features=512, out_features=256, bias=True)\n",
      "          (dropout): Dropout(p=0.1, inplace=False)\n",
      "        )\n",
      "        (dropout): Dropout(p=0.1, inplace=False)\n",
      "      )\n",
      "    )\n",
      "    (fc_out): Linear(in_features=256, out_features=46, bias=True)\n",
      "    (dropout): Dropout(p=0.1, inplace=False)\n",
      "  )\n",
      ")\n"
     ]
    }
   ],
   "source": [
    "SRC_PAD_IDX = SRC.vocab.stoi[SRC.pad_token]\n",
    "TRG_PAD_IDX = TRG.vocab.stoi[TRG.pad_token]\n",
    "\n",
    "model = Seq2Seq(enc, dec, PAD_token, PAD_token, device).to(device)\n",
    "print(model)"
   ]
  },
  {
   "cell_type": "markdown",
   "metadata": {
    "colab_type": "text",
    "id": "emajUQwcX2Vu"
   },
   "source": [
    "We can check the number of parameters, noticing it is significantly less than the 37M for the convolutional sequence-to-sequence model."
   ]
  },
  {
   "cell_type": "code",
   "execution_count": 330,
   "metadata": {
    "colab": {},
    "colab_type": "code",
    "id": "LWkYgy2hX2Vv",
    "outputId": "6d02dbe1-f875-4164-ded4-2c54c158982f"
   },
   "outputs": [
    {
     "name": "stdout",
     "output_type": "stream",
     "text": [
      "The model has 4,039,470 trainable parameters\n"
     ]
    }
   ],
   "source": [
    "def count_parameters(model):\n",
    "    return sum(p.numel() for p in model.parameters() if p.requires_grad)\n",
    "\n",
    "print(f'The model has {count_parameters(model):,} trainable parameters')"
   ]
  },
  {
   "cell_type": "markdown",
   "metadata": {
    "colab_type": "text",
    "id": "xQZbLaApX2V2"
   },
   "source": [
    "The paper does not mention which weight initialization scheme was used, however Xavier uniform seems to be common amongst Transformer models, so we use it here."
   ]
  },
  {
   "cell_type": "code",
   "execution_count": 331,
   "metadata": {
    "colab": {},
    "colab_type": "code",
    "id": "3nxn1z2aX2V3"
   },
   "outputs": [],
   "source": [
    "def initialize_weights(m):\n",
    "    if hasattr(m, 'weight') and m.weight.dim() > 1:\n",
    "        nn.init.xavier_uniform_(m.weight.data)"
   ]
  },
  {
   "cell_type": "markdown",
   "metadata": {
    "colab_type": "text",
    "id": "1-cynhuBX2V5"
   },
   "source": [
    "The optimizer used in the original Transformer paper uses Adam with a learning rate that has a \"warm-up\" and then a \"cool-down\" period. BERT and other Transformer models use Adam with a fixed learning rate, so we will implement that. Check [this](http://nlp.seas.harvard.edu/2018/04/03/attention.html#optimizer) link for more details about the original Transformer's learning rate schedule.\n",
    "\n",
    "Note that the learning rate needs to be lower than the default used by Adam or else learning is unstable."
   ]
  },
  {
   "cell_type": "markdown",
   "metadata": {
    "colab_type": "text",
    "id": "Lnv9ZX8QX2V7"
   },
   "source": [
    "Next, we define our loss function, making sure to ignore losses calculated over `<pad>` tokens."
   ]
  },
  {
   "cell_type": "code",
   "execution_count": 332,
   "metadata": {},
   "outputs": [
    {
     "name": "stdout",
     "output_type": "stream",
     "text": [
      "['ngezinkonzo\\tnga-i-zin-konzo', 'kwabanamandla\\tkwa-a-ba-namandla', 'yokuqinisekisa\\tya-u-ku-qin-is-ek-is-a', 'izinkonzo\\ti-zin-khonzo', 'ezizosiza\\tezi-zo-siz-a', 'lwezinkonzo\\tlwa-i-zin-khonzo', 'amasevisi\\ta-ma-sevisi', 'oluqondene\\to-lu-qond-an-ile', 'ehambisana\\te-hamb-is-an-a', 'izigaba\\ti-zi-gaba', 'nemigomo\\tna-i-mi-gomo', 'esikhonjiswe\\tesi-khomb-is-w-e', 'okwenzekayo\\toku-enz-ek-a-yo', 'isipedi\\ti-si-pedi', 'ngezinkonzo\\tnga-i-zin-khonzo', 'elithi\\teli-th-i', 'yolwazi\\ti-yo-lu-az-i', 'nemikhakha\\tna-i-mi-khakha', 'lwezinkonzo\\tlwa-i-zin-khonzo', 'ngokubonelela\\tnga-u-ku-bon-elel-a', 'kuzoseshwa\\tku-zo-sesh-w-a', 'ngokukhetha\\tnga-u-ku-kheth-a', 'ngamagama\\tnga-a-ma-gama', 'iwebsite\\ti-website', 'njalo\\tnjalo', 'esixhumanisana\\tesi-xhum-an-is-an-a', 'lwayo\\tlwa-yo', 'nengqikithi\\tna-i-n-ngqikithi', 'amafomu\\ta-ma-fomu', 'udinga\\tu-ding-a', 'sincoma\\tsi-ncom-a', 'ukuyethula\\tu-ku-yi-ethul-a', 'kuleyo\\tku-leyo', 'ngenkinobho\\tnga-i-n-nkinobho', 'kwinkinobho\\tkwi-i-n-nkinobho', 'ngezinkinga\\tnga-i-zin-nkinga', 'ukukhokha\\tu-ku-khokh-a', 'nokwaba\\tna-u-ku-ab-a', 'ihlakazwe\\ti-hlakaz-w-e', 'nenqubo\\tna-i-n-nqubo', 'udirectorgeneral\\tu-directorgeneral', 'wezinkampani\\twa-i-zin-nkampani', 'nokukhipha\\tna-u-ku-khiph-a', 'yiningi\\tyi-i-n-ningi', 'ezibandakanya\\tezi-bandakany-a', 'nazo\\tna-zo', 'yesikhashana\\tya-i-si-khathi-ana', 'yiliphi\\ty-i-li-phi', 'uregistratin\\tu-registratin', 'lwezimali\\tlwa-i-zin-mali', 'ezingasebenzeli\\tezi-nga-sebenz-el-i', 'kumthetho\\tku-u-mu-thetho', 'ezifisa\\tezi-fis-a', 'yokusungula\\tya-u-ku-sungul-a', 'elawulwa\\te-lawul-w-a', 'nencwadi\\tna-i-n-ncwadi', 'kufike\\tku-fik-e', 'sentela\\tsa-i-n-thela', 'ngokwezimali\\tnga-o-kwezimali', 'azo\\ta-zo', 'yomthethosisekelo\\tya-u-mu-thethosisekelo', 'asekelayo\\ta-sek-el-a-yo', 'izikole\\ti-zi-kole', 'ziphathimandla\\tzi-phathimandla', 'unakekelo\\tu-nakekelo', 'wokondla\\twa-u-ku-ondl-a', 'ingane\\ti-n-ngane', 'abahlalisanayo\\taba-hlal-is-an-a-yo', 'kuyehluka\\tku-ya-ehluk-a', 'emingaki\\temi-ngaki', 'ngokwalo\\tng-o-kwalo', 'esibambekayo\\te-si-bamb-ek-a-yo', 'yokuhlala\\tya-u-ku-hlal-a', 'ukusukela\\tu-ku-suk-el-a', 'zemithi\\tza-i-mi-thi', 'wabathintekayo\\twa-a-ba-thintekayo', 'bezindleko\\tb-i-zin-dleko', 'umzali\\tu-mu-zali', 'wokunakekela\\twa-uku-nakekel-a', 'womsebenzi\\twa-u-mu-sebenzi', 'yenza\\ty-enz-a', 'kuyo\\tku-yo', 'kwefomu\\tkwa-i-li-fomu', 'okuthenga\\ta-u-ku-theng-a', 'niye\\tni-y-e', 'incwadi\\ti-n-ncwadi', 'ummangalelwa\\tu-mu-mangal-el-w-a', 'evuma\\te-vum-a', 'sokwenza\\tsa-u-ku-enz-a', 'enkantolo\\te-i-n-kantolo', 'inkantolo\\ti-n-kantolo', 'inkantolo\\ti-n-kantolo', 'ombuso\\ta-u-mu-buso', 'muntu\\tmu-ntu', 'isondlo\\ti-si-ondlo', 'nokufakela\\tna-u-ku-fak-el-a', 'asayine\\ta-sayin-e', 'ibhokisi\\ti-li-bhokisi', 'njengomuntu\\tnjenga-u-mu-ntu', 'ezingeniswayo\\tezi-ngen-is-w-a-yo', 'yamametheriyali\\tya-a-ma-metheriyali', 'aqinisekisiwe\\ta-qinis-ek-is-iw-e', 'ukuthengiswa\\tu-ku-theng-is-w-a', 'ebhalise\\te-bhal-is-e', 'ukudidiyelwa\\tu-ku-didiyel-w-a', 'ebhaliwe\\te-bhal-iw-e', 'nomanyolo\\tna-o-manyolo', 'ukumela\\tu-ku-mel-a', 'esisha\\tesi-sha', 'ikhokhelwe\\ti-khokh-el-w-e', 'aqondiswe\\ta-qond-is-w-e', 'amanye\\tama-nye', 'asayine\\ta-sayin-e', 'kwihhovisi\\tkwi-i-li-hhovisi', 'ngesingisi\\tnga-i-si-ngisi', 'nezeluleko\\tna-i-zi-eluleko', 'ngokomthetho\\tnga-o-komthetho', 'somanyolo\\tsa-o-manyolo', 'ukudidiyelwa\\tu-ku-didiyel-w-a', 'ebhaliwe\\te-bhal-iw-e', 'kwemfuyo\\tkwa-i-n-fuyo', 'oqokelwe\\to-qok-el-w-e', 'sokuthumela\\tsa-u-ku-thum-el-a', 'inani\\ti-li-nani', 'amasheke\\ta-ma-sheke', 'nezichibiyelo\\tna-i-zi-chibiyelo', 'ikhophi\\ti-li-khophi', 'yobhaliso\\ty-u-bhaliso', 'ukuhambisa\\tu-ku-hamb-is-a', 'ngesingisi\\tnga-i-si-ngisi', 'musa\\tmus-a', 'anikezwa\\ta-nikez-w-a', 'ezingu290\\tezi-ng-u290', 'izinhlobo\\ti-zin-hlobo', 'isikhathi\\ti-si-khathi', 'kwimiphakathi\\tkwi-i-mi-phakathi', 'izitshalo\\ti-zi-tshalo', 'nalena\\tna-lena', 'izitshalo\\ti-zi-tshalo', 'yomthetho\\tya-u-mu-thetho', 'fakela\\tfak-el-a', 'lwesitshalo\\tlw-i-si-tshalo', 'nohlolo\\tna-o-hlolo', 'ekhethiwe\\te-kheth-iw-e', 'izinhlobo\\ti-zin-hlobo', 'ngaleso\\tnga-leso', 'yiziphi\\ty-i-zi-phi', 'esinikeziwe\\tesi-nikez-iw-e', 'izinsuku\\ti-zin-suku', 'izinqanyana\\ti-zin-nqama-ana', 'yesitshalo\\ty-i-si-tshalo', 'kwemfuyo\\tkwa-i-n-fuyo', 'ngegama\\tnga-i-li-gama', 'nezinonisi\\tna-i-zin-onisi', 'komhlabathi\\tkwa-u-mu-hlabathi', 'imfuyo\\ti-n-fuyo', 'nesicelo\\tna-i-si-celo', 'nokulandelayo\\tna-o-kulandelayo', 'oluyindodakazi\\tolu-yi-i-n-doda-kazi', 'inani\\ti-li-nani', 'amasheke\\ta-ma-sheke', 'ngezicelo\\tnga-i-zi-celo', 'enye\\ten-nye', 'kuchaziwe\\tku-chaz-iw-e', 'ukuhambisa\\tu-ku-hamb-is-a', 'izinhlanzi\\ti-zin-hlanzi', 'ukuzilibazisa\\tu-ku-zi-libaz-is-a', 'isiphathimandla\\ti-si-phathimandla', 'zakwamanye\\tza-a-kwamanye', 'angewona\\ta-nge-wa-on-a', 'ihoxiswe\\ti-hox-is-w-e', 'zilawulwa\\tzi-lawul-w-a', 'lezolimo\\tl-i-zolimo', 'ezisohlwini\\te-zisohlu-ini', 'ngale\\tnga-le', 'nje\\tnje', 'eliphethe\\teli-pheth-e', 'olivakashelayo\\to-li-vakash-el-a-yo', 'zifakwe\\tzi-fak-w-e', 'ebhange\\te-i-li-bhange', 'ubanike\\tu-ba-nik-e', 'ukuhamba\\tu-ku-hamb-a', 'ephathelene\\te-phath-el-an-ile', 'uzise\\tu-zi-s-e', 'ekhishwa\\te-khiph-w-a', 'izinhlanzi\\ti-zin-hlanzi', 'yisikhathi\\tyi-i-si-khathi', 'iphomedi\\ti-li-phomedi', 'lezolimo\\tl-i-zolimo', 'egatsheni\\te-i-li-gatsha-ini', 'yokungabe\\tya-u-ku-ngi-ab-e', 'impahla\\ti-n-phahla', 'kwaleli\\tkwa-leli', 'egatsheni\\te-i-li-gatsha-ini', 'olunamagagasi\\tolu-na-a-ma-gagasi', 'kwaleli\\tkwa-leli', 'wamukele\\tu-amuk-el-e', 'zwe\\tli-zwe', 'amakhophi\\ta-ma-khophi', 'sokuthumela\\tsa-u-ku-thum-el-a', 'izinhlanzi\\ti-zin-hlanzi', 'namaphepha\\tna-a-ma-phepha', 'lezohwebo\\tle-u-zohwebo', 'wakho\\twa-kho', 'zincwaba\\tzi-ncwaba', 'namaphepha\\tna-a-ma-phepha', 'okuqala\\toku-qal-a', 'uyithole\\tu-yi-thol-e', 'ezivela\\tezi-vel-a', 'izindaba\\ti-zin-daba', 'njalo\\tnjalo', 'sephomedi\\tsa-i-li-phomedi', 'ancwaba\\ta-ncwaba', 'ancwaba\\ta-ncwaba', 'ibekiwe\\ti-bek-iw-e', 'zilethwe\\tzi-leth-w-e', 'ngokubhaliwe\\tnga-o-kubhaliwe', 'ikhishiwe\\ti-khiph-iw-e', 'inkalankala\\ti-n-nkalankala', 'lebhulantshi\\tle-u-bhulantshi', 'zesicelo\\tza-i-si-celo', 'thumela\\tthum-el-a', 'enesitembu\\te-na-i-si-tembu', 'enesitembu\\te-na-i-si-tembu', 'ozingenisayo\\to-zi-ngen-is-a-yo', 'adingekayo\\ta-ding-ek-a-yo', 'kwaloko\\tkwa-loko', 'ukukhokha\\tu-ku-khokh-a', 'isondlo\\ti-si-ondlo', 'ulifakela\\tu-li-fak-el-a', 'ungasafinyeleli\\tu-nga-sa-finy-elel-i', 'elifanele\\teli-fan-el-e', 'kwisikhulu\\tkwi-i-si-khulu', 'udaba\\tu-lu-daba', 'nawo\\tna-wo', 'sizophathwa\\tsi-zo-phath-w-a', 'wenkantolo\\twa-i-n-kantolo', 'ecela\\te-cel-a', 'abameli\\ta-ba-meli', 'ingamukela\\ti-nga-amuk-el-a', 'umthetho\\tu-mu-thetho', 'nje\\tnje', 'litholakala\\tli-thol-akal-a', 'agcwalise\\ta-gcwal-is-e', 'umnyango\\tu-mu-nyango', 'sokusebenzisana\\tsa-u-ku-sebenz-is-an-a', 'somthetho\\tsa-u-mu-thetho', 'yokuqala\\tya-u-ku-qal-a', 'efakelwe\\te-fak-el-w-e', 'kunonamasheya\\tku-nonamasheya', 'ngaphambi\\tnga-phambi', 'yamukelwe\\ti-amuk-el-w-e', 'yolawulo\\ty-u-lawulo', 'wamukelwe\\tu-amuk-el-w-e', 'kwayo\\tkwa-yo', 'ngawo\\tnga-wo', 'wosiko\\twa-u-lu-siko', 'umendo\\tu-mu-endo', 'kuphasiswe\\tku-phas-is-w-e', 'yosiko\\tya-u-lu-siko', 'umyeni\\tu-mu-yeni', 'umshado\\tu-mu-shado', 'eyaziwa\\te-yi-az-iw-a', 'nomyeni\\tna-u-mu-yeni', 'ikontraki\\ti-kontraki', 'umyeni\\tu-mu-yeni', 'sokwamukelwa\\tsa-u-ku-amuk-el-w-a', 'ukungenela\\tu-ku-ngen-el-a', 'amakhosikazi\\ta-ma-khosi-kazi', 'wesilungu\\twa-i-si-lungu', 'enqaba\\ta-enqab-a', 'uchaze\\tu-chaz-e', 'negama\\tna-i-li-gama', 'ufakazi\\tu-fakazi', 'liqinisekiswe\\tli-qin-is-ek-is-w-e', 'sinikezwe\\tsi-nikez-w-e', 'ogunyazwe\\to-gunyaz-w-e', 'wesiko\\twa-i-li-siko', 'wasesouth\\twa-asesouth', 'wasesouth\\twa-asesouth', 'yokudoba\\tya-u-ku-dob-a', 'izindaba\\ti-zin-daba', 'maphepha\\tma-phepha', 'umkhumbi\\tu-mu-khumbi', 'womkhumbi\\twa-u-mu-khumbi', 'obhaliswe\\to-bhal-is-w-e', 'zwe\\tli-zwe', 'zomnikazi\\tza-u-mu-nikazi', 'yilabo\\tyi-labo', 'isikhathi\\ti-si-khathi', 'yakhona\\tya-khona', 'emthethweni\\te-u-mu-thetho-ini', 'babike\\tba-bik-e', 'emanzini\\te-a-ma-nzi-ini', 'wangaphandle\\twa-nga-phandle', 'ngokuya\\tnga-u-ku-y-a', 'lokudoba\\tla-u-ku-dob-a', 'uzodoba\\tu-zo-dob-a', 'iland\\ti-land', 'yilunga\\tyi-i-li-lunga', 'ngenhloso\\tnga-i-n-hloso', 'esivivaneni\\te-i-si-vivi-ana-ini', 'yolimo\\ty-u-limo', 'ngaphezulu\\tnga-phezulu', 'nomhlaba\\tna-u-mu-hlaba', 'yokulima\\tya-u-ku-lim-a', 'lwamalunga\\tlwa-a-ma-lunga', 'umthethosisekelo\\tu-mu-thethosisekelo', 'ukwehlukana\\tu-ku-ehluk-an-a', 'nokukhuthaza\\tna-u-ku-khuthaz-a', 'uvikelekile\\tu-vik-el-ek-ile', 'zomhlaba\\tza-u-mu-hlaba', 'yilowo\\tyi-lowo', 'eyakhelwe\\te-yi-akh-el-w-e', 'ukuzuza\\tu-ku-zuz-a', 'nomfundi\\tna-u-mu-fundi', 'sohlelo\\tsa-u-lu-hlelo', 'umthethosisekelo\\tu-mu-thethosisekelo', 'babuye\\tba-buy-e', 'njengamalungu\\tnjenga-a-ma-lungu', 'bahlele\\tba-hlel-e', 'okubuka\\toku-buk-a', 'zabanye\\tza-aba-nye', 'ukuzimela\\tu-ku-zi-()m-el-a', 'amaningana\\tama-ningana', 'abakhe\\taba-akh-e', 'zokuhlalisana\\tza-u-ku-hlal-is-an-a', 'ukungalingani\\tu-ku-nga-ling-an-i', 'ezingeni\\te-i-li-zinga-ini', 'ngokuthi\\tnga-u-ku-th-i', 'yokuhlalisana\\tya-u-ku-hlal-is-an-a', 'lakithi\\tla-a-kithi', 'esibukeziwe\\tesi-bukez-iw-e', 'nezitatimende\\tna-i-zi-tatimende', 'lwezemvelo\\tlw-i-zemvelo', 'nokuphatha\\tna-u-ku-phath-a', 'somkhakha\\tsa-u-mu-khakha', 'zichazwa\\tzi-chaz-w-a', 'naleso\\tna-leso', 'ukukwazi\\tu-ku-ku-az-i', 'esibukeziwe\\tesi-bukez-iw-e', 'zezifundo\\tza-i-zi-fundo', 'zona\\tzo-na', 'kwezifundazwe\\tkwa-i-zi-fundazwe', 'okuwumgogodla\\toku-wu-u-mu-gogodla', 'zezifundo\\tza-i-zi-fundo', 'ziqukethe\\tzi-qukath-ile', 'sohlelo\\tsa-u-lu-hlelo', 'ukukwazi\\tu-ku-ku-az-i', 'zezifundo\\tza-i-zi-fundo', 'ezingeni\\te-i-li-zinga-ini', 'nalowo\\tna-lowo', 'entiwa\\te-nt-iw-a', 'saleyo\\tsa-leyo', 'umculu\\tu-mculu', 'olusekelwe\\tolu-sek-el-w-e', 'ngempumelelo\\tnga-i-n-phumelelo', 'ngenqubekelaphambili\\tnga-i-n-qubekelaphambili', 'elinqala\\teli-nqal-a', 'bazokwazi\\tba-zo-ku-az-i', 'bemfundo\\tba-i-n-fundo', 'abacwaningi\\ta-ba-cwaningi', 'nongoti\\tna-o-ngoti', 'kwalezo\\tkwa-lezo', 'sobandlululo\\tsa-u-lu-bandlululo', 'ukubhekana\\tu-ku-bhek-an-a', 'umfundi\\tu-mu-fundi', 'emzungezile\\te-mu-zungez-ile', 'wesifundo\\twa-i-si-fundo', 'isitsonga\\ti-si-tsonga', 'ezinjengolimi\\tezi-njenga-u-lu-limi', 'umkhakha\\tu-mu-khakha', 'zingxenye\\tzin-ngxenye', 'olwengeziwe\\tolu-engez-iw-e', 'ukuxhumana\\tu-ku-xhum-an-a', 'wesifundo\\twa-i-si-fundo', 'amabhodi\\ta-ma-bhodi', 'nazo\\tna-zo', 'wesifundo\\twa-i-si-fundo', 'ezingaphezulu\\tezi-nga-phezulu', 'olwengeziwe\\tolu-engez-iw-e', 'ngokwentuthuko\\tng-o-kwentuthuko', 'okujwayelekile\\toku-jwayel-ek-ile', 'olwengeziwe\\tolu-engez-iw-e', 'ngokuthi\\tnga-u-ku-th-i', 'lolo\\tlolo', 'ukufunda\\tu-ku-fund-a', 'lwemfundo\\tlwa-i-n-fundo', 'lwalolu\\tlwa-lolu', 'nokukhuluma\\tna-u-ku-khulum-a', 'lwabo\\tlwa-bo', 'olwengeziwe\\tolu-engez-iw-e', 'kwebanga\\tkw-i-banga', 'nolimi\\tna-u-lu-limi', 'befisa\\tbe-fis-a', 'zindlela\\tzin-dlela', 'kunesokufunda\\tku-nesokufunda', 'njengalezi\\tnjenga-lezi', 'ulimi\\tu-lu-limi', 'nokubhala\\tna-u-ku-bhal-a', 'kuhlelwe\\tku-hlel-w-e', 'balusebenzisele\\tba-lu-sebenz-is-el-e', 'ulimi\\tu-lu-limi', 'olwengeziwe\\tolu-engez-iw-e', 'ziyizisekelo\\tzi-yi-i-zi-sekelo', 'ziveza\\tzi-vez-a', 'ubuwena\\tu-bu-wena', 'ezimweni\\te-zi-()m-w-e-ni', 'ngomcabango\\tnga-u-mu-cabango', 'okuhambisana\\toku-hamb-is-an-a', 'yokuthi\\tya-u-ku-th-i', 'kolimi\\tkwa-u-lu-limi', 'ukulandela\\tu-ku-land-el-a', 'yezilimi\\ty-i-zi-li-m-i', 'ukuzwisisa\\tu-ku-()z-w-isis-a', 'edinga\\te-ding-a', 'ngemvelo\\tnga-i-n-velo', 'yokuqala\\tya-u-ku-qal-a', 'wesi5\\tw-isi5', 'awufakiwe\\ta-wu-fak-iw-e', 'ngqo\\tngqo', 'achaziwe\\ta-chaz-iw-e', 'sisebenzisa\\tsi-sebenz-is-a', 'yezilimi\\ty-i-zi-li-m-i', 'yezilimi\\ty-i-zi-li-m-i', 'umfundi\\tu-mu-fundi', 'uyakwazi\\tu-ya-ku-az-i', 'okuthinta\\toku-thint-a', 'umfundi\\tu-mu-fundi', 'wesifundo\\twa-i-si-fundo', 'nakuba\\tnakuba', 'kwethulwe\\tku-ethul-w-e', 'lwesiqephu\\tlwa-i-si-qephu', 'esifana\\tesi-fan-a', 'bakha\\tba-akh-a', 'ukuqamba\\tu-ku-qamb-a', 'olimini\\to-u-lu-limi-ini', 'iziqephu\\ti-zi-qephu', 'isihloko\\ti-si-hloko', 'yokubingelela\\tya-u-ku-bingelel-a', 'ngemfanelo\\tnga-i-n-fanelo', 'ngobuhlanga\\tnga-o-buhlanga', 'iziqephu\\ti-zi-qephu', 'ngomlomo\\tnga-u-mu-lomo', 'bayophikisana\\tba-yo-phik-is-an-a', 'ukuzwelana\\tu-ku-()zw-el-an-a', 'ukufunda\\tu-ku-fund-a', 'nesihloko\\tna-i-si-hloko', 'izihloko\\ti-zi-hloko', 'zabafundi\\tza-a-ba-fundi', 'nezihloko\\tna-i-zi-hloko', 'yabo\\tya-bo', 'yabo\\tya-bo', 'sezilimi\\ts-i-zi-li-m-i', 'ukufunda\\tu-ku-fund-a', 'namalungelo\\tna-a-ma-lungelo', 'sohlelo\\tsa-u-lu-hlelo', 'kuqikelela\\tku-qik-elel-a', 'yabo\\tya-bo', 'nezindlela\\tna-i-zin-dlela', 'zokuhlola\\tza-u-ku-hlol-a', 'elindelekile\\te-lind-el-ek-ile', 'nezindlela\\tna-i-zin-dlela', 'kwemiphumela\\tkwa-i-mi-phumela', 'yokuqoqa\\tya-u-ku-qoq-a', 'izimpawu\\ti-zin-phawu', 'yokufundisa\\tya-u-ku-fund-is-a', 'kathisha\\tka-u-thisha', 'okudingwa\\toku-ding-w-a', 'bazuze\\tba-zuz-e', 'nokufundisa\\tna-u-ku-fund-is-a', 'kukhombe\\tku-khomb-e', 'ukwandisa\\tu-ku-and-is-a', 'nokubasiza\\tna-u-ku-ba-siz-a', 'ukuzama\\tu-ku-zam-a', 'yezingxaki\\ty-i-zin-gxaki', 'ukubathumela\\tu-ku-ba-thum-el-a', 'kusekele\\tku-sek-el-e', 'wabafundi\\twa-a-ba-fundi', 'yomfundi\\tya-u-mu-fundi', 'okuhleliwe\\toku-hlel-iw-e', 'nezinkomba\\tna-i-zin-khomba', 'siyakhethwa\\tsi-ya-kheth-w-a', 'ukuhlola\\tu-ku-hlol-a', 'kuthatha\\tku-thath-a', 'kuyophela\\tku-yo-phel-a', 'bazibukele\\tba-zi-buk-el-e', 'kwenyuse\\tku-enyus-e', 'okwakhayo\\toku-akh-a-yo', 'ngokubhala\\tnga-u-ku-bhal-a', 'ukuhlola\\tu-ku-hlol-a', 'zokuhlola\\tza-u-ku-hlol-a', 'amakhono\\ta-ma-khono', 'ukuhlola\\tu-ku-hlol-a', 'besebenzisa\\tbe-sebenz-is-a', 'ukuhlola\\tu-ku-hlol-a', 'kudinga\\tku-ding-a', 'ukukhetha\\tu-ku-kheth-a', 'ekwazini\\te-u-ku-az-i-ni', 'namasu\\tna-a-ma-su', 'nothisha\\tna-o-thisha', 'abo\\ta-bo', 'isigodi\\ti-si-godi', 'afanayo\\ta-fan-a-yo', 'nezikhali\\tna-i-zi-khali', 'nawo\\tna-wo', 'iqikelele\\ti-qik-elel-e', 'leso\\tleso', 'lesikole\\tla-i-si-kole', 'ukuqikelela\\tu-ku-qik-elel-a', 'ngawo\\tnga-wo', 'ukuqeqeshwa\\tu-ku-qeqesh-w-a', 'sokuthatha\\tsa-u-ku-thath-a', 'ukubhalwa\\tu-ku-bhal-w-a', 'okubhalwa\\toku-bhal-w-a', 'uthisha\\tu-thisha', 'zesifundo\\tza-i-si-fundo', 'kufinyeleleke\\tku-finyel-el-ek-e', 'ekufundiseni\\te-u-ku-fund-is-a-ini', 'umfundi\\tu-mu-fundi', 'ngabafundi\\tnga-a-ba-fundi', 'okuyiyona\\toku-yi-yon-a', 'uthisha\\tu-thisha', 'ngombiko\\tnga-u-mu-biko', 'zikuchaza\\tzi-ku-chaz-a', 'ngenhla\\tnga-i-n-nhla', 'amanye\\tama-nye', 'kungalungiswa\\tku-nga-lung-is-w-a', 'nokhoke\\tn-okhok-e', 'abhaleke\\ta-bhal-ek-e', 'imininingwane\\ti-mi-niningwane', 'lomfundi\\tlwa-u-mu-fundi', 'labafundi\\tla-a-ba-fundi', 'elivumelekile\\teli-vum-el-ek-ile', 'nemibono\\tna-i-mi-bono', 'namaphesenti\\tna-a-ma-phesenti', 'zifihla\\tzi-fihl-a', 'yezibalo\\tya-i-zi-balo', 'afihla\\ta-fihl-a', 'kwenye\\tkwa-en-nye', 'komunye\\tku-omu-nye', 'komfundi\\tkwa-u-mu-fundi', 'zokuhlola\\tza-u-ku-hlol-a', 'esitatimendeni\\te-sitatimende-ini', 'lomfundi\\tlwa-u-mu-fundi', 'lomfundi\\tlwa-u-mu-fundi', 'uhlu\\tu-lu-hlu', 'lugcwaliswe\\tlu-gcwal-is-w-e', 'ebangeni\\te-i-li-banga-ini', 'nesitembu\\tna-i-si-tembu', 'ukuqhubekela\\tu-ku-qhub-ek-el-a', 'umphathisikole\\tu-mphathisikole', 'olunikeza\\tolu-nikez-a', 'uthisha\\tu-thisha', 'ngokucophelela\\tnga-u-ku-cophelel-a', 'nesithombe\\tna-i-si-thombe', 'akhe\\ta-khe', 'nokuhlalisana\\tna-u-ku-hlal-is-an-a', 'wokudlulisa\\twa-u-ku-dlul-is-a', 'yawo\\tya-wo', 'womfundi\\twa-u-mu-fundi', 'imibiko\\ti-mi-biko', 'okubheka\\toku-bhek-a', 'ngomfundi\\tnga-u-mu-fundi', 'ngokubika\\tnga-u-ku-bik-a', 'womfundi\\twa-u-mu-fundi', 'kuqukethe\\tku-qukath-ile', 'zezifundo\\tza-i-zi-fundo', 'amakhadi\\ta-ma-khadi', 'unike\\tu-nik-e', 'zifakwe\\tzi-fak-w-e', 'umlondolozi\\tu-mu-londolozi', 'nokuvulwa\\tna-u-ku-vul-w-a', 'azifeze\\ta-zi-fez-e', 'sebenzisa\\tsebenz-is-a', 'embikweni\\te-u-mu-biko-ini', 'ngomunye\\tnga-omu-nye', 'ukusekelwa\\tu-ku-sek-el-w-a', 'izovumela\\ti-zo-vum-el-a', 'wezilwane\\twa-i-zi-lwane', 'nemikhiqizo\\tna-i-mi-khiqizo', 'zakamuva\\tza-a-kamuva', 'ireferense\\ti-referense', 'wakhipha\\twa-khiph-a', 'liposelwe\\tli-pos-el-w-e', 'yokuxhumana\\tya-u-ku-xhum-an-a', 'esiyobonelelwa\\tesi-yo-bon-elel-w-a', 'uposelwe\\tu-pos-el-w-e', 'axhumane\\ta-xhum-an-e', 'sokuhlukaniswa\\tsa-u-ku-hluk-an-is-w-a', 'sokuhlukanisa\\tsa-u-ku-hluk-an-is-a', 'yokungenisa\\tya-u-ku-ngen-is-a', 'sokuvikeleka\\tsa-u-ku-vik-el-ek-a', 'nesitifikedi\\tna-i-si-tifikedi', 'esibhenene\\tesi-bhen-an-ile', 'eziqondene\\tezi-qond-an-ile', 'yezilwane\\tya-i-zi-lwane', 'echwebeni\\te-i-li-chweba-ini', 'achaziwe\\ta-chaz-iw-e', 'liqinisekiswe\\tli-qin-is-ek-is-w-e', 'wezilwane\\twa-i-zi-lwane', 'izimbuzi\\ti-zin-bhuzi', 'zinikezwe\\tzi-nikez-w-e', 'sokuqala\\tsa-u-ku-qal-a', 'imithi\\ti-mi-thi', 'zomhlaba\\tza-u-mu-hlaba', 'izilwane\\ti-zi-lwane', 'esithize\\tesi-thize', 'semvume\\tsa-i-n-vume', 'sebethole\\tba-se-be-thol-e', 'isifo\\ti-si-fo', 'njengomuntu\\tnjenga-u-mu-ntu', 'umthetho\\tu-mu-thetho', 'usuthole\\tu-se-u-thol-e', 'wogonyo\\tw-u-gonyo', 'incwadi\\ti-n-ncwadi', 'bamanani\\tba-a-ma-nani', 'umuthi\\tu-mu-thi', 'ebhalwe\\te-bhal-w-e', 'leyo\\tleyo', 'urejistwe\\tu-rejistwe', 'esiyisipesheli\\tesi-yi-i-si-pesheli', 'bachaza\\tba-chaz-a', 'yederi\\ty-i-deri', 'yenza\\ty-enz-a', 'nekhophi\\tna-i-li-khophi', 'inikezwe\\ti-nikez-w-e', 'lomnyango\\tla-u-mu-nyango', 'umnyango\\tu-mu-nyango', 'liposelwe\\tli-pos-el-w-e', 'esigabeni\\te-i-si-gaba-ini', 'leyo\\tleyo', 'uzozilandela\\tu-zo-zi-land-el-a', 'sithumele\\tsi-thum-el-e', 'yezilwane\\tya-i-zi-lwane', 'ngezidingo\\tnga-i-zi-dingo', 'ihhovisi\\ti-li-hhovisi', 'yokuqala\\tya-u-ku-qal-a', 'impahla\\ti-n-phahla', 'uncingo\\tu-ncingo', 'iaccreditation\\ti-a-ccreditation', 'ngezitifikedi\\tnga-i-zi-tifikedi', 'zezitifikedi\\tz-i-zi-tifikedi', 'ihlolwe\\ti-hlol-w-e', 'kwegunya\\tkw-i-gunya', 'isampuli\\ti-sampuli', 'zisebenza\\tzi-sebenz-a', 'egunyazwe\\te-gunyaz-w-e', 'zeseed\\tz-iseed', 'kuwe\\tku-we', 'ngezinombolo\\tnga-i-zin-nombolo', 'eyabiwe\\te-yi-ab-iw-e', 'kukhishwa\\tku-khiph-w-a', 'wombuso\\twa-u-mu-buso', 'bangasese\\tba-nga-sas-ile', 'azo\\ta-zo', 'nomnikazi\\tna-u-mu-nikazi', 'wabo\\twa-bo', 'umthetho\\tu-mu-thetho', 'abanganayo\\taba-nga-na-yo', 'umnyango\\tu-mu-nyango', 'ngokungemthetho\\tng-o-kungemthetho', 'ngokungemthetho\\tng-o-kungemthetho', 'ngokungemthetho\\tng-o-kungemthetho', 'ngokungemthetho\\tng-o-kungemthetho', 'ungenelwe\\tu-ngen-el-w-e', 'wokuvimbela\\twa-u-ku-vimb-el-a', 'angathintana\\ta-nga-thint-an-a', 'kukhona\\tku-khona', 'ngokungemthetho\\tng-o-kungemthetho', 'kungumsebenzi\\tku-ngu-u-mu-sebenzi', 'apostille\\ta-postille', 'ilizwe\\ti-li-zwe', 'kwaleli\\tkwa-leli', 'qobo\\tqobo', 'aqale\\ta-qal-e', 'lezangaphandle\\tle-o-zangaphandle', 'isitifiketi\\ti-si-tifiketi', 'lenziwe\\tli-enz-iw-e', 'isitifiketi\\ti-si-tifiketi', 'semthethweni\\ts-emthethw-e-ni', 'angawo\\ta-nga-wo', 'eziveza\\tezi-vez-a', 'semthethweni\\ts-emthethw-e-ni', 'akho\\ta-kho', 'uveza\\tu-vez-a', 'yokuvuma\\tya-u-ku-vum-a', 'mzukwana\\tmu-zuko-ana', 'faka\\tfak-a', 'amaphepha\\ta-ma-phepha', 'ofuna\\to-fun-a', 'lenxusa\\tla-i-li-nxusa', 'ukufa\\tu-ku-f-a', 'ezifakazelwe\\tezi-fakaz-el-w-e', 'angawo\\ta-nga-wo', 'kushiwo\\tku-sh-iw-o', 'nencwadi\\tna-i-n-ncwadi', 'njalo\\tnjalo', 'lezomthetho\\tl-i-zomthetho', 'ezisayiniwe\\tezi-sayin-iw-e', 'zaphinde\\tza-phind-e', 'kwezinyanga\\tkw-i-zin-yanga', 'yokwenze\\ty-u-kwenze', 'sempilo\\tsa-i-n-philo', 'aphathelene\\ta-phath-el-an-ile', 'yokwenze\\ty-u-kwenze', 'okuyisikebhe\\toku-yi-i-si-kebhe', 'ukulawulwa\\tu-ku-lawul-w-a', 'ngabantu\\tnga-a-ba-ntu', 'yokugcina\\tya-u-ku-gcin-a', 'ngaphezulu\\tnga-phezulu', 'kwendawo\\tkwa-i-n-ndawo', 'kukhishwe\\tku-khiph-w-e', 'yokusebenzisa\\tya-u-ku-sebenz-is-a', 'wesimo\\twa-i-si-mo', 'ufakele\\tu-fak-el-e', 'fakela\\tfak-el-a', 'enjini\\ta-i-n-njini', 'onenhloso\\to-na-i-n-hloso', 'amagama\\ta-ma-gama', 'lowo\\tlowo', 'udaba\\tu-lu-daba', 'zezikhalazo\\tz-i-zi-khalazo', 'amagama\\ta-ma-gama', 'iphoyisa\\ti-li-phoyisa', 'lenzeke\\tli-enz-ek-e', 'kabi\\tka-bi', 'ethintekile\\te-thint-ek-ile', 'kabi\\tka-bi', 'yomgunyathi\\tya-u-mu-gunyathi', 'enkantolo\\te-i-n-kantolo', 'ngamabomu\\tnga-a-ma-bomu', 'ukwamukela\\tu-ku-amuk-el-a', 'ukuntshontsha\\tu-ku-ntshontsh-a', 'okungekho\\toku-nge-khona', 'ngenhla\\tnga-i-n-nhla', 'olungenhla\\tolu-nga-i-n-nhla', 'isikhalazo\\ti-si-khalazo', 'ezenzeka\\tezi-enz-ek-a', 'zenkantolo\\tza-i-n-kantolo', 'samahhora\\tsa-a-ma-hhora', 'unikeze\\tu-nikez-e', 'umhlaziyi\\tu-mhlaziyi', 'intela\\ti-n-thela', 'inenhloso\\ti-na-i-n-hloso', 'lentela\\tla-i-n-thela', 'ikhokhelwe\\ti-khokh-el-w-e', 'yesikhashana\\tya-i-si-khathi-ana', 'njalo\\tnjalo', 'ehambisana\\te-hamb-is-an-a', 'kwisikhathi\\tkwi-i-si-khathi', 'inani\\ti-li-nani', 'ngokulandelayo\\tnga-o-kulandelayo', 'ususe\\tu-sus-e', 'olubekelwe\\tolu-bek-el-w-e', 'ezilandelayo\\tezi-landel-a-yo', 'ezingamaholide\\tezi-nga-a-ma-holide', 'ezifakwe\\tezi-fak-w-e', 'lemali\\tla-i-n-mali', 'enedbank\\te-na-i-dbank', 'abayidingayo\\taba-yi-ding-a-yo', 'loku\\tloku', 'ngaphezulu\\tnga-phezulu', 'lokugcina\\tlwa-u-ku-gcin-a', 'ngokubona\\tnga-u-ku-bon-a', 'likhokhelwe\\tli-khokh-el-w-e', 'incazelo\\ti-n-ncazelo', 'amafomu\\ta-ma-fomu', 'samukelwe\\tsi-amuk-el-w-e', 'lokukhokha\\tlwa-u-ku-khokh-a', 'ohola\\to-hol-a', 'akhokhele\\ta-khokh-el-e', 'intela\\ti-n-thela', 'sekuhlolwe\\tku-se-ku-hlol-w-e', 'sekuhlolwe\\tku-se-ku-hlol-w-e', 'izinsuku\\ti-zin-suku', 'ukuhluleka\\tu-ku-hlul-ek-a', 'yokukhokha\\tya-u-ku-khokh-a', 'uhlolo\\tu-hlolo', 'evela\\te-vel-a', 'yesikhashana\\tya-i-si-khathi-ana', 'ngomhla\\tnga-o-mhla', 'kunyaka\\tku-u-nyaka', 'yangaphandle\\tya-nga-phandle', 'yokukhokha\\tya-u-ku-khokh-a', 'lesars\\tle-usars', 'ukhokhe\\tu-khokh-e', 'lokudlisela\\tla-u-ku-dlis-el-a', 'imininingwane\\ti-mi-niningwane', 'bekhokha\\tbe-khokh-a', 'ingena\\ti-ngen-a', 'esazisweni\\te-i-si-aziso-ini', 'imukeleke\\ti-muk-el-ek-e', 'wefomu\\twa-i-li-fomu', 'yesikhashana\\tya-i-si-khathi-ana', 'nenani\\tna-i-li-nani', 'afakelwa\\ta-fak-el-w-a', 'isidingo\\ti-si-dingo', 'ungafakela\\tu-nga-fak-el-a', 'lerizevu\\tla-i-li-rizevu', 'wobuphoyisa\\tw-o-buphoyisa', 'elandelayo\\te-landel-a-yo', 'lingagqoka\\tli-nga-gqok-a', 'esiteshini\\te-i-si-teshi-ini', 'irizevu\\ti-rizevu', 'kumkhakha\\tku-u-mu-khakha', 'umkhakha\\tu-mu-khakha', 'kumkhakha\\tku-u-mu-khakha', 'yobuphoyisa\\ty-u-bu-phoyisa', 'othize\\to-thize', 'kulowo\\tku-lowo', 'lemibuzo\\tla-i-mi-buzo', 'kulokho\\tku-lokho', 'esilingana\\tesi-ling-an-a', 'ezigunyazwe\\tezi-gunyaz-w-e', 'icala\\ti-li-cala', 'nelayisense\\tna-i-li-layisense', 'wodlame\\twa-u-lu-dlame', 'impahla\\ti-n-phahla', 'okukulimazayo\\toku-ku-limaz-a-yo', 'somyalelo\\ts-o-myalelo', 'sodlame\\tsa-u-lu-dlame', 'ukungena\\tu-ku-ngen-a', 'ukungena\\tu-ku-ngen-a', 'angene\\ta-ngen-e', 'isenzo\\ti-si-enzo', 'okhathazeka\\to-khathaz-ek-a', 'engumuntu\\te-ngu-u-mu-ntu', 'ngokuvuma\\tnga-u-ku-vum-a', 'zilandelwe\\tzi-land-el-w-e', 'okusebenza\\toku-sebenz-a', 'iform\\ti-form', 'ngesitatimende\\tnga-i-si-tatimende', 'ukwephulwa\\tu-ku-ephul-w-a', 'lowo\\tlowo', 'muntu\\tmu-ntu', 'ngokwengqondo\\tng-o-kwengqondo', 'ngokwakhe\\tnga-o-kwakhe', 'sakho\\tsa-kho', 'ezokwazisa\\te-zo-ku-az-is-a', 'kwenkantolo\\tkwa-i-n-kantolo', 'ukufakela\\tu-ku-fak-el-a', 'sekhono\\tsa-i-li-khono', 'emine\\temi-ne', 'wathola\\twa-thol-a', 'uphawu\\tu-lu-phawu', 'amasevisi\\ta-ma-sevisi', 'ibrand\\ti-brand', 'uphawu\\tu-lu-phawu', 'uphawu\\tu-lu-phawu', 'kungathathwa\\tku-nga-thath-w-a', 'yamangalela\\tya-mangal-el-a', 'ngamathathu\\tnga-ama-thathu', 'iklasi\\ti-klasi', 'bhala\\tb-hal-a', 'izinkonzo\\ti-zin-khonzo', 'lawo\\tla-wo', 'nkonzo\\tn-khonzo', 'wazise\\tu-az-is-e', 'nehhovisi\\tna-i-li-hhovisi', 'ukulusebenzisa\\tu-ku-lu-sebenz-is-a', 'ekhishwa\\te-khiph-w-a', 'uzobiza\\tu-zo-biz-a', 'bophawu\\tba-u-lu-phawu', 'anayo\\ta-na-yo', 'wumthetho\\twu-u-mu-thetho', 'wumthetho\\twu-u-mu-thetho', 'ukukhokhela\\tu-ku-khokh-el-a', 'ngokwakhe\\tnga-o-kwakhe', 'engahlali\\te-nga-hlal-i', 'ohluleka\\to-hlul-ek-a', 'angenza\\ta-nga-enz-a', 'njengohluleka\\tnjenga-o-hluleka', 'sokukhokha\\tsa-u-ku-khokh-a', 'ukukhokha\\tu-ku-khokh-a', 'ukusukela\\tu-ku-suk-el-a', 'impahla\\ti-n-phahla', 'obonwe\\to-bon-w-e', 'obonwe\\to-bon-w-e', 'ukukhokhela\\tu-ku-khokh-el-a', 'uyobonelelwa\\tu-yo-bon-elel-w-a', 'eshona\\te-shon-a', 'yomuntu\\tya-u-mu-ntu', 'ubeka\\tu-bek-a', 'kosuku\\tkwa-u-lu-suku', 'idokhumende\\ti-dokhumende', 'eyiwili\\te-y-i-wili', 'libikwa\\tli-bik-w-a', 'bayodlulisela\\tba-yo-dlul-is-el-a', 'kungcono\\tku-ngcono', 'lingaphezulu\\tli-nga-phezulu', 'ifa\\ti-fa', 'bika\\tbik-a', 'ungathola\\tu-nga-thol-a', 'nenhlobo\\tna-i-n-hlobo', 'kungaphansi\\tku-nga-phansi', 'uhla\\tu-lu-hla', 'othize\\to-thize', 'afakelwe\\ta-fak-el-w-e', 'yaso\\tya-so', 'yayo\\tya-a-yo', 'alibikwanga\\ta-li-bik-w-anga', 'ebese\\te-b-es-e', 'imininingwane\\ti-mi-niningwane', 'ashiye\\ta-shiy-e', 'lokuqoka\\tla-u-ku-qok-a', 'njengomabi\\tnjenga-u-mu-abi', 'ngamabili\\tnga-ama-bili', 'ukwaba\\tu-ku-ab-a', 'fakela\\tfak-el-a', 'somshado\\tsa-u-mu-shado', 'yakuqala\\tya-ku-qal-a', 'yokuba\\tya-u-ku-b-a', 'oshonile\\to-shon-ile', 'oqokiwe\\to-qok-iw-e', 'intela\\ti-n-thela', 'yesikhashana\\tya-i-si-khathi-ana', 'zentela\\tza-i-n-thela', 'likhokhelwe\\tli-khokh-el-w-e', 'wezimali\\twa-i-zin-mali', 'ezingu30\\tezi-ng-u30', 'ngokukhokha\\tnga-u-ku-khokh-a', 'ngokukhokha\\tnga-u-ku-khokh-a', 'kukhokhwe\\tku-khokh-w-e', 'kokuphela\\tkwa-u-ku-phel-a', 'ngokuthandela\\tnga-u-ku-thand-el-a', 'engur20,000\\te-ng-ur20,000', 'intela\\ti-n-thela', 'bakhokhe\\tba-khokh-e', 'kunyaka\\tku-u-nyaka', 'kunyaka\\tku-u-nyaka', 'ophelele\\to-phel-el-e', 'isikhathi\\ti-si-khathi', 'nomkhokho\\tna-u-mu-khokho', 'kubaluleke\\tku-balulek-e', 'ingafakelwanga\\ti-nga-fak-el-w-anga', 'yomkhokhi\\ty-o-mkhokhi', 'yalezi\\tya-lezi', 'ekuseni\\te-u-ku-s-a-ini', 'bazinikeze\\tba-zi-nikez-e', 'isikhathi\\ti-si-khathi', 'isheduli\\ti-li-sheduli', 'kwaleli\\tkwa-leli', 'olulandelayo\\tolu-landel-a-yo', 'asesisebenzile\\ta-se-e-si-sebenz-ile', 'inani\\ti-li-nani', 'umholo\\tu-mu-holo', 'senani\\tsa-i-li-nani', 'intela\\ti-n-thela', 'abameli\\ta-ba-meli', 'ezikhonjiswe\\tezi-khomb-is-w-e', 'isheduli\\ti-li-sheduli', 'nokubhala\\tna-u-ku-bhal-a', 'namabhondi\\tna-a-ma-bhondi', 'kwizikhwama\\tkwi-i-zi-khwama', 'yamasheya\\tya-a-ma-sheya', 'iprophathi\\ti-prophathi', 'lobunikazi\\tlwa-u-bu-nikazi', 'amafomu\\ta-ma-fomu', 'egameni\\te-i-li-gama-ini', 'uhlolo\\tu-hlolo', 'ulahlekelo\\tu-lahlekelo', 'insimbi\\ti-n-nsimbi', 'nikeza\\tnikez-a', 'namatshe\\tna-a-ma-tshe', 'zifakelwe\\tzi-fak-el-w-e', 'amatshe\\ta-ma-tshe', 'kubathengisi\\tku-a-ba-thengisi', 'zasemzansi\\tza-a-semzansi', 'bazi\\tba-az-i', 'zinikeza\\tzi-nikez-a', 'uhlu\\tu-lu-hlu', 'ahamba\\ta-hamb-a', 'ukuvakashela\\tu-ku-vakash-el-a', 'yalelo\\tya-a-lelo', 'lwazi\\tl-w-azi', 'nomndeni\\tna-u-mu-ndeni', 'kulona\\tku-lo-na', 'ngenyanga\\tnga-i-n-nyanga', 'lwezempilo\\tlw-i-zempilo', 'nemithi\\tna-i-mi-thi', 'zwe\\tli-zwe', 'ekuqubekeni\\te-u-ku-qub-ek-a-ini', 'amajele\\ta-ma-jele', 'umyalo\\tu-mu-yalo', 'bezindiza\\tba-i-zin-ndiza', 'obhubhile\\to-bhubh-ile', 'eliphakeme\\teli-phakam-ile', 'njalo\\tnjalo', 'kwemigomo\\tkw-i-mi-gomo', 'wabo\\twa-bo', 'izicelo\\ti-zi-celo', 'ukubhalisa\\tu-ku-bhal-is-a', 'iphelele\\ti-phelel-e', 'bokufunda\\tba-u-ku-fund-a', 'ekolishi\\te-i-kolishi', 'ubufakazi\\tu-bu-fakazi', 'yaseningizimu\\tya-s-e-i-li-ningizimu', 'kuyodingeka\\tku-yo-ding-ek-a', 'ababili\\taba-bili', 'eshona\\te-shon-a', 'aphile\\ta-phil-e', 'ngenyanga\\tnga-i-n-nyanga', 'yesizwe\\tya-i-si-zwe', 'owaba\\towa-b-a', 'lwalelo\\tlwa-a-lelo', 'kwahlasimulisa\\tkwa-hlasimul-is-a', 'wokubonga\\twa-u-ku-bong-a', 'abamukelwe\\taba-amuk-el-w-e', 'kuvukelwa\\tku-vuk-el-w-a', 'nezivakashi\\tna-i-zi-vakashi', 'embizweni\\te-mbizo-ini', 'waso\\twa-so', 'sihole\\tsi-hol-e', 'izinhloso\\ti-zin-hloso', 'ngemvume\\tnga-i-n-vume', 'kwamanye\\tkwa-ama-nye', 'wokuqala\\twa-u-ku-qal-a', 'nokunyanyekayo\\tna-u-ku-nyanyekayo', 'efihliweyo\\te-fihl-iw-e-yo', 'ezigcwele\\tezi-gcwal-ile', 'ezicolile\\tezi-col-ile', 'nezindlovukazi\\tna-i-zin-dlovu-kazi', 'nezidakwamizwa\\tna-i-zi-dakwamizwa', 'zonya\\tza-u-lu-nya', 'ukuphepha\\tu-ku-pheph-a', 'ukuvikela\\tu-ku-vik-el-a', 'obasi\\to-basi', 'loku\\tloku', 'iphupho\\ti-li-phupho', 'loku\\tloku', 'okufunda\\ta-u-ku-fund-a', 'singeke\\tsi-n-g-ek-e', 'kungabandlululwana\\tku-nga-bandlulul-w-an-a', 'lowo\\tlo-u-wo', 'zathi\\tza-th-i', 'sivuselele\\tsi-vus-elel-e', 'sisebenzisana\\tsi-sebenz-is-an-a', 'lisebenzela\\tli-sebenz-el-a', 'esikhundleni\\te-i-si-khundla-ini', 'umzabalazo\\tu-mu-zabalazo', 'elandela\\te-land-el-a', 'inzalo\\ti-n-zalo', 'ukufezekiswa\\tu-ku-fez-ek-is-w-a', 'kufezeke\\tku-fez-ek-e', 'sempilo\\tsa-i-n-philo', 'njengegatsha\\tnjenga-i-li-gatsha', 'mongameli\\tmongameli', 'ukhule\\tu-khul-e', 'seloku\\ts-i-loku', 'kulinganiswa\\tku-ling-an-is-w-a', 'babonakele\\tba-bon-akal-ile', 'ezikhundleni\\te-i-zi-khundla-ini', 'lenani\\tl-en-a-ni', 'iyajabulisa\\ti-ya-jabul-is-a', 'nezimpahla\\tna-i-zin-phahla', 'loku\\tloku', 'akuzenzi\\ta-ku-zi-enz-i', 'eyadalwa\\teya-dal-w-a', 'yaloku\\tya-loku', 'singabuyeli\\tsi-nga-buy-el-i', 'amancane\\tama-ncane', 'ithole\\ti-thol-e', 'abathola\\taba-thol-a', 'yesondlo\\tya-i-si-ondlo', 'angeze\\ta-nge-ze', 'emibili\\temi-bili', 'azimele\\ta-zi-mel-e', 'zokuthuthukisa\\tza-u-ku-thuthuk-is-a', 'yokufaka\\tya-u-ku-fak-a', 'kwegoli\\tkwa-i-li-goli', 'ezihlanganisa\\tezi-hlangan-is-a', 'labantu\\tla-a-ba-ntu', 'kubo\\tku-bo', 'encane\\ten-ncane', 'okuthola\\ta-u-ku-thol-a', 'ikhulise\\ti-khul-is-e', 'owashiywa\\towa-shiy-w-a', 'nokuthuthwa\\tna-u-ku-thuth-w-a', 'yokuthi\\tya-u-ku-th-i', 'linye\\tli-nye', 'laloko\\tla-loko', 'kwezinga\\tkwa-i-li-zinga', 'bakamatekuletsheni\\tba-a-kamatekuletsheni', 'ekufezekiseni\\te-u-ku-fez-ek-is-a-ini', 'lezindaba\\tl-i-zin-daba', 'ephazamisa\\te-phazam-is-a', 'obuhlasele\\tobu-hlasel-e', 'anje\\ta-nje', 'yilabo\\tyi-labo', 'yobumpofu\\tya-u-bu-mpofu', 'ikakhulu\\ti-ka-khulu', 'ngokwehlukana\\tnga-u-ku-ehluk-an-a', 'ubuhlungu\\tu-bu-hlungu', 'asingeke\\ta-sing-ek-e', 'umnyaka\\tu-mu-nyaka', 'kwezihlakaniphi\\tkwa-i-zi-hlakaniphi', 'kugujwa\\tku-gubh-w-a', 'osimele\\to-si-()m-el-e', 'yedwana\\tye-dwa-ana', 'injabulo\\ti-n-jabulo', 'ukubhekana\\tu-ku-bhek-an-a', 'nokukhahlamezeka\\tna-u-ku-khahlamez-ek-a', 'zimali\\tzin-mali', 'angeke\\ta-n-g-ek-e', 'emuva\\te-u-mu-va', 'banethezeke\\tba-nethezek-e', 'yaloku\\tya-loku', 'nokubulala\\tna-u-ku-bulal-a', 'kobugebengu\\tkwa-u-bu-gebengu', 'sithi\\tsi-th-i', 'yokubhekisisa\\tya-u-ku-bhek-isis-a', 'uthole\\tu-thol-e', 'zokukhulisa\\tza-u-ku-khul-is-a', 'nezindlela\\tna-i-zin-dlela', 'enkulu\\ten-khulu', 'okuyilona\\toku-yi-lo-na', 'bakhona\\tba-khona', 'kwamabhuku\\tkwa-a-ma-bhuku', 'abaphethe\\taba-phath-ile', 'zokufundisa\\tza-u-ku-fund-is-a', 'basekhaya\\tba-s-e-i-li-khaya', 'zazingu50%\\tzazi-ng-u50%', 'okuhambelana\\toku-hamb-el-an-a', 'ohulumeni\\to-hulumeni', 'angu80%\\ta-ng-u80%', 'nasemadolobheni\\tna-s-e-a-ma-dolobha-ini', 'abasalele\\taba-sal-el-e', 'awenzileyo\\ta-wu-enz-ile-yo', 'abatshali\\ta-ba-tshali', 'bamaphrovinsi\\tba-a-ma-phrovinsi', 'ezithatha\\tezi-thath-a', 'ezitolo\\te-i-zi-tolo', 'ukwakhiwa\\tu-ku-akh-iw-a', 'ngezilimo\\tnga-i-zi-limo', 'kwamanye\\tkwa-ama-nye', 'ngezimpahla\\tnga-i-zin-phahla', 'emikhulu\\temi-khulu', 'siwathengisele\\tsi-wa-theng-is-el-e', 'amakhono\\ta-ma-khono', 'nokuthintana\\tna-u-ku-thint-an-a', 'izinhlobo\\ti-zin-hlobo', 'ohlelo\\ta-u-lu-hlelo', 'inani\\ti-li-nani', 'akhokhwa\\ta-khokh-w-a', 'ukutshalwa\\tu-ku-tshal-w-a', 'kweso\\tkwa-i-li-so', 'inqubekelaphambili\\ti-n-qubekelaphambili', 'yokwelekelela\\tya-u-ku-elekelel-a', 'siyethemba\\tsi-ya-ethemb-a', 'sekuvunyelwene\\tku-se-ku-vum-el-w-an-ile', 'ngokuthi\\tnga-u-ku-th-i', 'silikhulisile\\tsi-li-khul-is-ile', 'ekuthini\\te-u-ku-th-i-ni', 'kuyacaca\\tku-ya-cac-a', 'asakhasayo\\ta-sa-khas-a-yo', 'abafuna\\taba-fun-a', 'yisigungu\\tyi-i-si-gungu', 'amancane\\tama-ncane', 'abasha\\taba-sha', 'ezosebenza\\te-zo-sebenz-a', 'okonakalayo\\toku-on-akal-a-yo', 'zombuso\\tza-u-mu-buso', 'okusebenzisa\\ta-u-ku-sebenz-is-a', 'zingaphansi\\tzi-nga-phansi', 'wumbuso\\twu-u-mu-buso', 'ukuqedela\\tu-ku-qed-el-a', 'zazo\\tza-zo', 'inkongozelo\\ti-n-khongozelo', 'nemiholo\\tna-i-mi-holo', 'ngamalungu\\tng-a-ma-lungu', 'eziqhubekayo\\tezi-qhub-ek-a-yo', 'eliphethwe\\teli-pheth-w-e', 'wezimpesheni\\twa-i-zin-pesheni', 'sikukhumbule\\tsi-ku-khumbul-e', 'lokusiza\\tlwa-u-ku-siz-a', 'sivivinyo\\tsi-vivinyo', 'lokufaka\\tlwa-u-ku-fak-a', 'sifake\\tsi-fak-e', 'yilabo\\tyi-labo', 'siyoyishabalalisa\\tsi-yo-yi-shabalal-is-a', 'babo\\tba-bo', 'ngezigulane\\tnga-i-zi-gulane', 'imithi\\ti-mi-thi', 'umalaleveva\\tu-malaleveva', 'abagulayo\\taba-gul-a-yo', 'ngokuphazima\\tnga-u-ku-phazim-a', 'nokutholakala\\tna-u-ku-thol-akal-a', 'ezimayelana\\tezi-may-el-an-a', 'zokuthuthukisa\\tza-u-ku-thuthuk-is-a', 'nokuhlela\\tna-u-ku-hlel-a', 'asemajele\\ta-s-e-a-ma-jele', 'isikhathi\\ti-si-khathi', 'akhulise\\ta-khul-is-e', 'u180,000\\tu-180,000', 'imishini\\ti-mi-shini', 'sithuthukise\\tsi-thuthuk-is-e', 'likahulumeni\\tlika-u-hulumeni', 'nokwelusa\\tna-u-ku-elus-a', 'kwesisekelo\\tkwa-i-si-sekelo', 'yasendle\\tya-s-e-i-n-ndle', 'zisebenza\\tzi-sebenz-a', 'abasebenza\\taba-sebenz-a', 'elidala\\teli-dala', 'loko\\tloko', 'benzeka\\tba-enz-ek-a', 'nokusebenzisana\\tna-u-ku-sebenz-is-an-a', 'buqiniswe\\tbu-qin-is-w-e', 'igatsha\\ti-li-gatsha', 'usebenza\\tu-sebenz-a', 'ngazo\\tnga-zo', 'ogunyaza\\to-gunyaz-a', 'ngezindaba\\tnga-i-zin-daba', 'izindaba\\ti-zin-daba', 'likandunankulu\\tlika-u-ndunankulu', 'lamasu\\tla-a-ma-su', 'kuzona\\tku-zo-na', 'singumphakathi\\tsi-ngu-u-mu-phakathi', 'ekhethiwe\\te-kheth-iw-e', 'engu8,000\\te-ng-u8,000', 'abangu30,000\\taba-ng-u30,000', 'ifike\\ti-fik-e', 'mongameli\\tmongameli', 'nezintombi\\tna-i-zin-thombi', 'nezihlobo\\tna-i-zi-hlobo', 'yabo\\tya-bo', 'yalapho\\tya-lapho', 'basesomalia\\tba-a-sesomalia', 'sokufuna\\tsa-u-ku-fun-a', 'inselele\\ti-n-nselele', 'entuthukweni\\te-i-n-ntuthuko-ini', 'lesikhashana\\tla-i-si-khathi-ana', 'nokulondolozeka\\tna-u-ku-londoloz-ek-a', 'namanye\\tna-ama-nye', 'ziphinde\\tzi-phind-e', 'zingaphethwa\\tzi-nga-pheth-w-a', 'umlayezo\\tu-mu-layezo', 'nokunyanyekayo\\tna-u-ku-nyanyekayo', 'asikafiki\\ta-sikafiki', 'esiwulangazelela\\tesi-wu-langaz-elel-a', 'ngesimo\\tnga-i-si-mo', 'impela\\timpela', 'sicelwe\\tsi-cel-w-e', 'nani\\tna-ni', 'basemaphandleni\\tba-s-e-a-ma-phandle-ini', 'ekuthini\\te-u-ku-th-i-ni', 'yiqiniso\\tyi-i-li-qiniso', 'abaqavile\\taba-qav-ile', 'ukugibela\\tu-ku-gib-el-a', 'eyedlule\\te-yi-edlul-e', 'ubunzima\\tu-bu-nzima', 'eziqavile\\tezi-qav-ile', 'kufezekiswe\\tku-fez-ek-is-w-e', 'iphinde\\ti-phind-e', 'ogcwele\\to-gcwal-ile', 'ubukeze\\tu-bukez-e', 'nokuqeda\\tna-u-ku-qed-a', 'nangokubaluleka\\tna-ng-o-kubaluleka', 'iphalamende\\ti-li-phalamende', 'ngaphambi\\tnga-phambi', 'bazakufaka\\tba-zaku-fak-a', 'okubhekiwe\\toku-bhek-iw-e', 'zibe\\tzi-b-e', 'lwenza\\tlu-enz-a', 'ziyalandela\\tzi-ya-land-el-a', 'aqondiswe\\ta-qond-is-w-e', 'kwezinkantolo\\tkwa-i-zin-kantolo', 'siqondise\\tsi-qond-is-e', 'sibahlanganise\\tsi-ba-hlangan-is-e', 'ngenkathi\\tnga-i-n-khathi', 'uthe\\tu-th-e', 'ngokuthi\\tnga-u-ku-th-i', 'senhlakanipho\\tsa-i-n-hlakanipho', 'sobumnyama\\tsa-u-bu-mnyama', 'sasihamba\\tsa-be-si-hamb-a', 'kuzoba\\tku-zo-b-a', 'izinyawo\\ti-zin-nyawo', 'siqinile\\tsi-qin-ile', 'simele\\tsi-()m-el-e', 'bengenathemba\\tbe-ngenathemb-a', 'kwenzalo\\tkwa-i-n-zalo', 'yisikhathi\\ty-i-si-khathi', 'ngukuzinikela\\tngu-u-ku-zi-nik-el-a', 'labashushisi\\tla-a-ba-shushisi', 'njengokushiswa\\tnjenga-u-ku-sh-is-w-a', 'bafuna\\tba-fun-a', 'nangobunini\\tna-ng-o-bunini', 'isalela\\ti-salel-a', 'emigomeni\\te-i-mi-gomeni', 'sisebenzisane\\tsi-sebenz-is-an-e', 'obhekwe\\to-bhek-w-e', 'silandele\\tsi-land-el-e', 'kusho\\tku-sh-o', 'amakhulu\\tama-khulu', 'wathi\\twa-th-i', 'kuzodingeka\\tku-zo-ding-ek-a', 'bokulwisa\\tba-uku-lwis-a', 'amagama\\ta-ma-gama', 'esinjena\\tesi-njena', 'sibuyele\\tsi-buy-el-e', 'ithamo\\ti-li-thamo', 'zikagesi\\tzika-u-gesi', 'isidingo\\ti-si-dingo', 'kuso\\tku-so', 'yigatsha\\tyi-i-li-gatsha', 'ukufudumeza\\tu-ku-fudumez-a', 'wokuthi\\twa-u-ku-th-i', 'ngokuphoqelelwa\\tnga-u-ku-phoq-elel-w-a', 'nazo\\tna-zo', 'kwemishini\\tkwa-i-mi-shini', 'yokwakha\\tya-u-ku-akh-a', 'lokwakha\\tla-u-ku-akh-a', 'ngezindlela\\tnga-i-zin-dlela', 'wokuphehla\\twa-u-ku-phehl-a', 'angabizi\\ta-nga-biz-i', 'kwehliswe\\tku-ehlis-w-e', 'bamaphrovinsi\\tba-a-ma-phrovinsi', 'avela\\ta-vel-a', 'nabegatsha\\tna-a-be-gatsha', 'osaziwayo\\to-si-az-iw-a-yo', 'esinayo\\tesi-na-yo', 'wokonga\\twa-u-ku-ong-a', 'sokuthenga\\tsa-u-ku-theng-a', 'siqhubeke\\tsi-qhub-ek-e', 'ubucwebecwebe\\tu-bu-cwebecwebe', 'ugqozi\\tu-lu-gqozi', 'nendebe\\tna-i-n-debe', 'ukubamba\\tu-ku-bamb-a', 'ubunjani\\tu-bu-njani', 'ithi\\ti-th-i', 'yobhola\\ty-o-bhola', 'elizosithokozisa\\teli-zo-si-thokoz-is-a', 'abayoncintisana\\taba-yo-ncint-is-an-a', 'nentuthuko\\tna-i-n-ntuthuko', 'abatshali\\ta-ba-tshali', 'nokuguqula\\tna-u-ku-guqul-a', 'ngamabhizinisi\\tnga-a-ma-bhizinisi', 'imboni\\ti-n-mboni', 'esizisebenzisayo\\tesi-zi-sebenz-is-a-yo', 'ekongeni\\te-u-ku-ong-a-ini', 'ekude\\te-kude', 'bakwasentech\\tba-a-kwasentech', 'ngomabonakude\\tnga-o-mabonakude', 'lokubumbezela\\tla-u-ku-bumbezel-a', 'nezakhiwo\\tna-i-zi-akhiwo', 'kangangoba\\tkangangoba', 'zimali\\tzin-mali', 'wokubuyekeza\\twa-u-ku-buyekez-a', 'wokusiza\\twa-u-ku-siz-a', 'ezinkampani\\ta-i-zin-nkampani', 'besebenza\\tbe-sebenz-a', 'abazabe\\taba-zab-e', 'sifinyelele\\tsi-finyel-el-e', 'ezingu260,000\\tezi-ng-u260,000', 'nokunciphisa\\tna-u-ku-nciph-is-a', 'abathenge\\taba-theng-e', 'nesu\\tna-i-li-su', 'yizifo\\tyi-i-zi-fo', 'empofu\\te-mpofu', 'kwengu14\\tkw-ingu14', 'nemihlangano\\tna-i-mi-hlangano', 'wokuhamba\\twa-uku-hamb-a', 'elizosebenza\\teli-zo-sebenz-a', 'nomhlaba\\tna-u-mu-hlaba', 'sizosebenzana\\tsi-zo-sebenz-an-a', 'nokunikeza\\tna-u-ku-nikez-a', 'ngo5%\\tng-o5%', 'izolinganiswa\\ti-zo-ling-an-is-w-a', 'ikakhulu\\ti-ka-khulu', 'wamasotsha\\twa-a-ma-sotsha', 'siyisizwe\\tsi-yi-i-si-zwe', 'babantwana\\tba-a-ba-ntwana', 'ukuqala\\tu-ku-qal-a', 'ethenge\\te-theng-e', 'ukutholakala\\tu-ku-thol-akal-a', 'ukuphangisisa\\tu-ku-phang-isis-a', 'itb\\ti-tb', 'amakhambi\\ta-ma-khambi', 'siyisizwe\\tsi-yi-i-si-zwe', 'isifungo\\ti-si-fungo', 'kokuziphatha\\tkwa-u-ku-zi-phath-a', 'edinga\\te-ding-a', 'nomgcini\\tna-u-mu-gcini', 'buyanda\\tbu-ya-and-a', 'zisebenza\\tzi-sebenz-a', 'elizohlanganisa\\teli-zo-hlangan-is-a', 'nabezamajele\\tna-a-be-zamajele', 'nokwelekelelana\\tna-u-ku-elekelel-an-a', 'kwamajaji\\tkwa-a-ma-jaji', 'sabantu\\tsa-a-ba-ntu', 'sifezekise\\tsi-fez-ek-is-e', 'umthetho\\tu-mu-thetho', 'zokugcina\\tza-u-ku-gcin-a', 'umthetho\\tu-mu-thetho', 'wenqubo\\twa-i-n-nqubo', 'okusebenza\\ta-u-ku-sebenz-a', 'ngezindaba\\tnga-i-zin-daba', 'kohulumeni\\tku-o-hulumeni', 'ngezindaba\\tnga-i-zin-daba', 'umfutho\\tu-mu-futho', 'ezingcono\\tezi-ngcono', 'abaholi\\ta-ba-holi', 'lwabo\\tlwa-bo', 'nenkohlakalo\\tna-i-n-khohlakalo', 'ithamo\\ti-li-thamo', 'kweluswe\\tku-elus-w-e', 'sifune\\tsi-fun-e', 'okuzimela\\ta-u-ku-zi-()m-el-a', 'kweminye\\tkwa-emi-nye', 'bezwekazi\\tba-i-li-zwe-kazi', 'izinhlangano\\ti-zin-hlangano', 'bezwekazi\\tba-i-li-zwe-kazi', 'lwezifundazwe\\tlwa-i-zi-fundazwe', 'izifiso\\ti-zi-fiso', 'zobambiswano\\tza-u-lu-bambiswano', 'ikhambi\\ti-li-khambi', 'akhulumisanayo\\ta-khulum-is-an-a-yo', 'imithetho\\ti-mi-thetho', 'kumthethosisekelo\\tku-mthethosisekelo', 'besadc\\tb-i-sadc', 'ezinkulumeni\\te-zinkulume-ini', 'siqhubeka\\tsi-qhub-ek-a', 'nokuthuthukisa\\tna-u-ku-thuthuk-is-a', 'intuthuko\\ti-n-ntuthuko', 'yokulondolozeka\\tya-u-ku-londoloz-ek-a', 'yisifiso\\tyi-i-si-fiso', 'neqembu\\tna-i-li-qembu', 'sesivumelwano\\tsa-i-si-vumelwano', 'nelizwe\\tna-i-li-zwe', 'nentuthuko\\tna-i-n-ntuthuko', 'izomukela\\ti-zo-muk-el-a', 'ziyenziwa\\tzi-ya-enz-iw-a', 'wokubukeza\\twa-u-ku-bukez-a', 'sobala\\ts-u-bala', 'yaseningizimu\\tya-s-e-i-li-ningizimu', 'ubuntu\\tu-bu-ntu', 'kunyaka\\tku-u-nyaka', 'inekhono\\ti-na-i-li-khono', 'eafrika\\te-i-afrika', 'nempilo\\tna-i-n-philo', 'yokugcina\\tya-u-ku-gcin-a', 'esivele\\tesi-vel-e', 'igunya\\ti-li-gunya', 'ezinyangeni\\te-i-zin-nyanga-ini', 'nezindala\\tna-ezin-dala', 'nothabo\\tna-o-thabo', 'namajaji\\tna-a-ma-jaji', 'ehlukene\\te-ehluk-an-ile', 'azo\\ta-zo', 'kukhona\\tku-khona', 'ngempela\\tnga-impela', 'enkulu\\ten-khulu', 'oguqukweni\\to-u-lu-guquko-ini', 'kubeka\\tku-bek-a', 'kunokuba\\tkuna-u-ku-b-a', 'nokudideka\\tna-u-ku-did-ek-a', 'ziye\\tzi-y-e', 'namandla\\tna-a-ma-ndla', 'sokhetho\\tsa-u-lu-khetho', 'yawo\\tya-wo', 'nolwezifundazwe\\tna-o-lwezifundazwe', 'uhlu\\tu-lu-hlu', 'unhlolanja\\tu-nhlolanja', 'nosuku\\tna-u-lu-suku', 'sokuvotela\\tsa-u-ku-vot-el-a', 'sigubhe\\tsi-gubh-e', 'embuzweni\\te-mbuzo-ini', 'ezihlangene\\tezi-hlangan-ile', 'zempilo\\tza-i-n-philo', 'nemigwamanda\\tna-i-mi-gwamanda', 'sempi\\tsa-i-n-mpi', 'lokwakheka\\tlwa-u-ku-akh-ek-a', 'nokukhiphela\\tna-u-ku-khiph-el-a', 'oluhlukanisayo\\tolu-hluk-an-is-a-yo', 'kwaholela\\tkwa-hol-el-a', 'engama30\\te-nga-ama30', 'wakwamahlangu\\twa-a-kwamahlangu', 'evikela\\te-vik-el-a', 'kulezo\\tku-lezo', 'obubandayo\\tobu-band-a-yo', 'zaphuma\\tza-phum-a', 'ustrini\\tu-strini', 'sifisa\\tsi-fis-a', 'kunemiyalezo\\tkuna-i-mi-yalezo', 'eyadlula\\teya-dlul-a', 'zinhlangano\\tzin-hlangano', 'yayibukeka\\tya-be-i-buk-ek-a', 'nobunzima\\tna-u-bu-nzima', 'siyiqhube\\tsi-yi-qhub-e', 'olusebenza\\tolu-sebenz-a', 'umthethosisekelo\\tu-mu-thethosisekelo', 'impela\\timpela', 'azo\\ta-zo', 'lokumelwa\\tla-u-ku-()m-el-w-a', 'ziqedela\\tzi-qed-el-a', 'ku0,2%\\tku-0,2%', 'isilele\\ti-silal-ile', 'wezindaba\\tw-i-zin-daba', 'nokuxhumana\\tna-u-ku-xhum-an-a', 'kuyo\\tku-yo', 'wesizwe\\twa-i-si-zwe', 'ngokuthi\\tnga-u-ku-th-i', 'inselele\\ti-n-nselele', 'esiyenzayo\\tesi-yi-enz-a-yo', 'kokudondobala\\tkwa-u-ku-dondobal-a', 'kwalezo\\tkwa-lezo', 'ezikhulayo\\tezi-khul-a-yo', 'kwamathuba\\tkwa-a-ma-thuba', 'sasilengela\\tsa-be-si-leng-el-a', 'igross\\ti-gross', 'kuyingxenye\\tku-yi-i-n-ngxenye', 'nokuqhuba\\tna-u-ku-qhub-a', 'zezomnotho\\tz-i-zomnotho', 'okube\\toku-b-e', 'obizwa\\to-biz-w-a', 'inselele\\ti-n-nselele', 'wahlanganiswa\\twa-hlangan-is-w-a', 'liphansi\\tli-phansi', 'asikakuboni\\ta-si-ka-ku-bon-i', 'alibanga\\ta-li-b-anga', 'eziphezulu\\tezi-phezulu', 'esifushane\\tesi-fushane', 'wokuthi\\twa-u-ku-th-i', 'ngakho\\tnga-kho', 'zibe\\tzi-b-e', 'engama500,000\\te-nga-ama500,000', 'kuma31%\\tku-ma31%', 'misebenzi\\tmi-sebenzi', 'sokukhuphula\\tsa-u-ku-khuphul-a', 'bezwe\\tba-i-li-zwe', 'ngokushintsha\\tnga-u-ku-shintsh-a', 'ngezinzuzo\\tnga-i-zin-zuzo', 'nokushiyelana\\tna-u-ku-shiy-el-an-a', 'ezimbalwa\\tezi-mbalwa', 'lokungalingani\\tla-u-ku-nga-ling-an-i', 'yemali\\tya-i-n-mali', 'ezinsizakalweni\\te-i-zin-sizakalo-ini', 'ukwehla\\tu-ku-ehl-a', 'kusho\\tku-sh-o', 'baqhubeka\\tba-qhub-ek-a', 'ihambe\\ti-hamb-e', 'kwendlala\\tkwa-i-n-ndlala', 'yemali\\tya-i-n-mali', 'bemali\\tba-i-n-mali', 'kosizo\\tkwa-u-lu-sizo', 'omsebenzi\\ta-u-mu-sebenzi', 'iqophelo\\ti-qophelo', 'sekube\\tku-se-ku-b-e', 'eziyisisekelo\\tezi-yi-i-si-sekelo', 'kwegciwane\\tkwa-i-li-gciwane', 'alulukhulu\\ta-lu-lu-khulu', 'azihlali\\ta-zi-hlal-i', 'akuphethwe\\ta-ku-pheth-w-e', 'jikelela\\tjik-elel-a', 'izibonelo\\ti-zi-bonelo', 'lwezemfundo\\tlw-i-zemfundo', 'kukhombisa\\tku-khomb-is-a', 'ingekho\\ti-nga-khona', 'lokubuyiselwa\\tla-u-ku-buy-is-el-w-a', 'olubalekayo\\tolu-bal-ek-a-yo', 'lalezi\\tla-lezi', 'ukukhathazeka\\tu-ku-khathaz-ek-a', 'njalo\\tnjalo', 'izinhlobo\\ti-zin-hlobo', 'bokuthintana\\tba-u-ku-thint-an-a', 'ekhathazayo\\te-khathaz-a-yo', 'ubuthakathaka\\tu-bu-thakathaka', 'ngakho\\tnga-kho', 'ngokungenazwelo\\tng-o-kungenazwelo', 'zazo\\tza-zo', 'guquko\\tguquko', 'ukulalela\\tu-ku-lalel-a', 'yobudlelwano\\tya-u-bu-dlelwano', 'saqhubeka\\tsa-qhub-ek-a', 'kweavareji\\tkw-ia-vareji', 'linomthelela\\tli-na-u-mu-thelela', 'ngokunye\\tnga-oku-nye', 'beyijabulisa\\tbe-yi-jabul-is-a', 'ukuqhubeka\\tu-ku-qhub-ek-a', 'endleleni\\te-i-n-dlela-ini', 'okusafanele\\toku-sa-fan-el-e', 'okuyisimangaliso\\toku-yi-i-si-mangaliso', 'ngikwazi\\tngi-ku-az-i', 'ukusuka\\tu-ku-suk-a', 'nakuba\\tnakuba', 'ongenabulili\\to-nge-na-u-bu-lili', 'babantu\\tba-a-ba-ntu', 'ukungasebenzi\\tu-ku-nga-sebenz-i', 'amancane\\tama-ncane', 'ezimalini\\te-i-zin-mali-ini', 'izinsizakalo\\ti-zin-sizakalo', 'zinhloso\\tzin-hloso', 'nokulinganayo\\tna-o-kulinganayo', 'ngigcizelele\\tngi-gcizelel-e', 'ngempumelelo\\tnga-i-n-phumelelo', 'amashumi\\ta-ma-shumi', 'esibaluleke\\tesi-balulek-e', 'nokunganaki\\tna-o-kunganaki', 'enomhawu\\te-na-u-mu-hawu', 'yale\\tya-le', 'nezinqubomgomo\\tna-i-zin-qubomgomo', 'ngokuhlanganiswa\\tnga-u-ku-hlangan-is-w-a', 'umkhiqizo\\tu-mu-khiqizo', 'nesikhathi\\tna-i-si-khathi', 'ukuhlinzekwa\\tu-ku-hlinz-ek-w-a', 'ngempela\\tnga-impela', 'babalingani\\tba-a-ba-lingani', 'zindaba\\tzin-daba', 'okutshala\\ta-u-ku-tshal-a', 'ezinhlanganweni\\te-i-zin-hlangano-ini', 'zokwandisa\\tza-u-ku-and-is-a', 'ukwethulwa\\tu-ku-ethul-w-a', 'kokutshalwa\\tkwa-u-ku-tshal-w-a', 'ukubhekana\\tu-ku-bhek-an-a', 'ekuhambiseni\\te-u-ku-hamb-is-a-ini', 'komkhankaso\\tkwa-u-mu-khankaso', 'andise\\ta-and-is-e', 'eminyaka\\ta-i-mi-nyaka', 'ukuhlosa\\tu-ku-hlos-a', 'engxenyeni\\te-i-n-ngxenye-ini', 'bayajeziswa\\tba-ya-jez-is-w-a', 'bayazizwa\\tba-ya-zi-()zw-a', 'kusho\\tku-sh-o', 'nokunciphisa\\tna-u-ku-nciph-is-a', 'ezinezinhlangothi\\tezi-na-i-zin-hlangothi', 'sikholwa\\tsi-kholw-a', 'lamazwe\\tla-a-ma-zwe', 'zokuhweba\\tza-u-ku-hweb-a', 'nje\\tnje', 'wentuthuko\\twa-i-n-ntuthuko', 'kuzoba\\tku-zo-b-a', 'nendebe\\tna-i-n-debe', 'zokuvikela\\tza-u-ku-vik-el-a', 'kuzoba\\tku-zo-b-a', 'lezinyawo\\tla-i-zin-nyawo', 'nobuntu\\tna-u-bu-ntu', 'ukuhalalisela\\tu-ku-halalis-el-a', 'lifinyelele\\tli-finy-elel-e', 'yamaolimpiki\\tya-amao-limpiki', 'benza\\tba-enz-a', 'likhombisa\\tli-khomb-is-a', 'umzamo\\tu-mu-zamo', 'iafrika\\ti-a-frika', 'liphikelele\\tli-phik-elel-e', 'ithemba\\ti-li-themba', 'izinhlangano\\ti-zin-hlangano', 'ophilile\\to-phil-ile', 'isesekelo\\ti-sesekelo', 'esiphethweni\\te-i-si-phetho-ini', 'zwe\\tli-zwe', 'nabakuqalayo\\tna-a-ba-kuqalayo', 'sokuqhubeka\\tsa-u-ku-qhub-ek-a', 'namanye\\tna-ama-nye', 'ngusihlalo\\tngu-u-sihlalo', 'ukubumbana\\tu-ku-bumb-an-a', 'ubudlelwano\\tu-bu-dlelwano', 'ezwe\\ta-i-li-zwe', 'siphetha\\tsi-pheth-a', 'kithi\\tki-thi', 'nobudlelwano\\tna-u-bu-dlelwano', 'yasempumalanga\\tya-a-sempumalanga', 'abangenacala\\taba-nge-na-i-li-cala', 'nodlame\\tna-u-lu-dlame', 'bezokwazi\\tbe-zo-ku-az-i', 'sakwazi\\tsa-ku-az-i', 'zezinhlangano\\tza-i-zin-hlangano', 'namanye\\tna-ama-nye', 'basebenze\\tba-sebenz-e', 'zesizukulwane\\tza-i-si-zukulwane', 'kokuqinisekisa\\tkwa-u-ku-qin-is-ek-is-a', 'ezimbalwa\\tezi-mbalwa', 'asohlelweni\\ta-s-o-u-lu-hlelo-ini', 'izigaba\\ti-zi-gaba', 'ngokwenziwayo\\tnga-o-kwenziwayo', 'oluphelele\\tolu-phel-el-e', 'sisheshisa\\tsi-shesh-is-a', 'wezinsalela\\twa-i-zin-salela', 'ekungeneleleni\\te-u-ku-ngen-elel-a-ini', 'angcono\\ta-ngcono', 'ukuqinisa\\tu-ku-qin-is-a', 'ngenqubomgomo\\tnga-i-n-qubomgomo', 'ukuqinisa\\tu-ku-qin-is-a', 'yakha\\tya-akh-a', 'okuhle\\toku-hle', 'uhambo\\tu-lu-hambo', 'ukulandela\\tu-ku-land-el-a', 'mibandela\\tmi-bandela', 'ukusabalalisa\\tu-ku-sabalal-is-a', 'yayo\\tya-yo', 'bathole\\tba-thol-e', 'ngenhloso\\tnga-i-n-hloso', 'izinhlangano\\ti-zin-hlangano', 'olubhaliswe\\tolu-bhal-is-w-e', 'sihloko\\tsi-hloko', 'umsebenzisi\\tu-msebenzisi', 'umqondo\\tu-mu-qondo', 'ngaphambi\\tnga-phambi', 'kuyothi\\tku-yo-th-i', 'ngengaphazamiseki\\tnga-i-n-gaphazamiseki', 'inikezwa\\ti-nikez-w-a', 'ukuhambelana\\tu-ku-hamb-el-an-a', 'iqokelelwe\\ti-qok-elel-w-e', 'ecasulayo\\te-casul-a-yo', 'nobungozi\\tna-u-bu-ngozi', 'yomphumela\\tya-u-mu-phumela', 'ukuphazamisa\\tu-ku-phazam-is-a', 'kuyoqhubeka\\tku-yo-qhub-ek-a', 'ukungakwazi\\tu-ku-nga-ku-az-i', 'ngokuqonda\\tnga-u-ku-qond-a', 'akufakelwe\\ta-ku-fak-el-w-e', 'emukelwa\\te-emukel-w-a', 'lokuhluleka\\tla-u-ku-hlul-ek-a', 'ukuphepha\\tu-ku-pheph-a', 'lubhidlizwe\\tlu-bhidliz-w-e', 'usebenza\\tu-sebenz-a', 'ikhasi\\ti-li-khasi', 'engagunyaziwe\\te-nga-gunyaz-iw-e', 'muntu\\tmu-ntu', 'icala\\ti-li-cala', 'iwebsite\\ti-website', 'kungasiza\\tku-nga-siz-a', 'emahlombe\\te-a-ma-hlombe', 'atholakala\\ta-thol-akal-a', 'angavakashela\\ta-nga-vakash-el-a', 'sokugcina\\tsa-u-ku-gcin-a', 'enemibuzo\\te-na-i-mi-buzo', 'amancane\\tama-ncane', 'elithile\\teli-thile', 'bangasebenzisa\\tba-nga-sebenz-is-a', 'imikhakha\\ti-mi-khakha', 'osebenzisa\\to-sebenz-is-a', 'wumthombo\\twu-u-mu-thombo', 'ehlelelwe\\te-hlel-el-w-e', 'olufakelwe\\tolu-fak-el-w-e', 'ukubhalisa\\tu-ku-bhal-is-a', 'lomsebenzisi\\tlo-i-msebenzisi', 'kokuthumela\\tkwa-u-ku-thum-el-a', 'benganikeza\\tbe-nga-nikez-a', 'izinhloso\\ti-zin-hloso', 'ukudluliseka\\tu-ku-dlul-is-ek-a', 'okuhlala\\toku-hlal-a', 'zolawulo\\tz-u-lawulo', 'ngenhla\\tnga-i-n-nhla', 'ngesicelo\\tnga-i-si-celo', 'nokufakela\\tna-u-ku-fak-el-a', 'abafuna\\taba-fun-a', 'zomthetho\\tza-u-mu-thetho', 'iwebsite\\ti-website', 'ekuxhumaneni\\te-u-ku-xhum-an-a-ini', 'ukuhluleka\\tu-ku-hlul-ek-a', 'kwalelo\\tkwa-lelo', 'mbandela\\tmu-bandela', 'imibandela\\ti-mi-bandela', 'benelungelo\\tbe-na-i-li-lungelo', 'ziyoqala\\tzi-yo-qal-a', 'kokufakelwa\\tkwa-u-ku-fak-el-w-a', 'nezimo\\tna-i-zi-mo', 'ikheli\\ti-kheli', 'kokukhokhelwa\\tkwa-u-ku-khokh-el-w-a', 'umthamo\\tu-mu-thamo', 'yiminyango\\tyi-i-mi-nyango', 'awumthamo\\ta-wu-u-mu-thamo', 'ngqo\\tngqo', 'ukhokhele\\tu-khokh-el-e', 'wamahhala\\twa-a-ma-hhala', 'nokusebenzisa\\tna-u-ku-sebenz-is-a', 'ngokuthi\\tnga-u-ku-th-i', 'abo\\ta-bo', 'uxhumane\\tu-xhum-an-e', 'umphakeli\\tu-mphakeli', 'uhlaka\\tu-lu-hlaka', 'udoti\\tu-doti', 'uhlaka\\tu-lu-hlaka', 'kukadoti\\tkuka-u-doti', 'kamasipala\\tka-u-masipala', 'uzosebenzisa\\tu-zo-sebenz-is-a', 'kokusebenzisa\\tkwa-u-ku-sebenz-is-a', 'njalo\\tnjalo']\n"
     ]
    }
   ],
   "source": [
    "\n",
    "lines = open('../Data/Zulu/zulu.clean.dev.conll', encoding='utf-8').\\\n",
    "read().strip().split('\\n')\n",
    "devData = []\n",
    "correct = 0\n",
    "for line in lines:\n",
    "    line = line.lower()\n",
    "    line = line.split(\" | \")\n",
    "    ortho = removeTags(line[3])\n",
    "    #print(ortho)\n",
    "    devData.append(line[0] + \"\\t\" + ortho)\n",
    "    \n",
    "print(devData)"
   ]
  },
  {
   "cell_type": "code",
   "execution_count": 333,
   "metadata": {
    "colab": {},
    "colab_type": "code",
    "id": "-_jEA3AbX2V_"
   },
   "outputs": [],
   "source": [
    "def epoch_time(start_time, end_time):\n",
    "    elapsed_time = end_time - start_time\n",
    "    elapsed_mins = int(elapsed_time / 60)\n",
    "    elapsed_secs = int(elapsed_time - (elapsed_mins * 60))\n",
    "    return elapsed_mins, elapsed_secs"
   ]
  },
  {
   "cell_type": "code",
   "execution_count": 334,
   "metadata": {
    "colab": {},
    "colab_type": "code",
    "id": "wUG22wbDX2V9"
   },
   "outputs": [],
   "source": [
    "LEARNING_RATE = 0.0005\n",
    "\n",
    "optimizer = torch.optim.Adam(model.parameters(), lr = LEARNING_RATE)\n",
    "\n",
    "criterion = nn.CrossEntropyLoss(ignore_index = PAD_token)\n",
    "\n",
    "def train(model, iterator, optimizer, criterion, clip, iterations):\n",
    "    \n",
    "    model.train()\n",
    "    \n",
    "    epoch_loss = 0\n",
    "    training_pairs = [tensorsFromPair(random.choice(pairs))\n",
    "                      for i in range(iterations)]\n",
    "    #for i, batch in enumerate(iterator):\n",
    "    for i, pair in enumerate(training_pairs):  \n",
    "        #print(pair)\n",
    "        training_pair = training_pairs[i - 1]\n",
    "        input_tensor  = training_pair[0].view(1, -1)\n",
    "        target_tensor = training_pair[1].view(1, -1)\n",
    "#         print(input_tensor.shape)\n",
    "#         print(target_tensor.shape)\n",
    "        #src = batch.src\n",
    "        #trg = batch.trg\n",
    "        \n",
    "        #print(\"org: \",src.shape)\n",
    "        #print(trg.shape)\n",
    "        optimizer.zero_grad()\n",
    "        \n",
    "        output, _ = model(input_tensor, target_tensor[:,:-1])\n",
    "        \n",
    "        #output = [batch size, trg len - 1, output dim]\n",
    "        #trg = [batch size, trg len]\n",
    "            \n",
    "        output_dim = output.shape[-1]\n",
    "            \n",
    "        output = output.contiguous().view(-1, output_dim)\n",
    "        target_tensor = target_tensor[:,1:].contiguous().view(-1)\n",
    "                \n",
    "        #output = [batch size * trg len - 1, output dim]\n",
    "        #trg = [batch size * trg len - 1]\n",
    "            \n",
    "        loss = criterion(output, target_tensor)\n",
    "        \n",
    "        loss.backward()\n",
    "        \n",
    "        torch.nn.utils.clip_grad_norm_(model.parameters(), clip)\n",
    "        \n",
    "        optimizer.step()\n",
    "        #print(loss.item())\n",
    "        epoch_loss += loss.item()\n",
    "        \n",
    "    return epoch_loss  / len(iterator)"
   ]
  },
  {
   "cell_type": "code",
   "execution_count": 335,
   "metadata": {
    "colab": {},
    "colab_type": "code",
    "id": "LpDMKa0tX2V-"
   },
   "outputs": [],
   "source": [
    "def evaluate(model, iterator, criterion, n):\n",
    "    \n",
    "    model.eval()\n",
    "    \n",
    "    epoch_loss = 0\n",
    "    \n",
    "    with torch.no_grad():\n",
    "        \n",
    "        for line in devData[0:n]:\n",
    "            \n",
    "            source, target = line.split(\"\\t\")\n",
    "            #print(source, target)\n",
    "            \n",
    "            source = tensorFromWord(input_lang, source).view(1, -1)\n",
    "            target = tensorFromWord(output_lang, target).view(1, -1)\n",
    "            #print(source.shape, target.shape)\n",
    "            output, _ = model(source, target[:,:-1])\n",
    "            \n",
    "            #output = [batch size, trg len - 1, output dim]\n",
    "            #trg = [batch size, trg len]\n",
    "            \n",
    "            output_dim = output.shape[-1]\n",
    "            \n",
    "            output = output.contiguous().view(-1, output_dim)\n",
    "            target = target[:,1:].contiguous().view(-1)\n",
    "            \n",
    "            #output = [batch size * trg len - 1, output dim]\n",
    "            #trg = [batch size * trg len - 1]\n",
    "            \n",
    "            loss = criterion(output, target)\n",
    "            #print(loss.item())\n",
    "\n",
    "            epoch_loss += loss.item()\n",
    "    return epoch_loss  / n"
   ]
  },
  {
   "cell_type": "code",
   "execution_count": 336,
   "metadata": {
    "colab": {},
    "colab_type": "code",
    "id": "igY0SdJcX2WB",
    "outputId": "149fbf92-1178-4fc5-c742-3cd0583c7e8e"
   },
   "outputs": [
    {
     "name": "stdout",
     "output_type": "stream",
     "text": [
      "Epoch: 01 | Time: 1m 43s\n",
      "\tTrain Loss: 0.418 | \n",
      "\t Val. Loss: 5.077 | \n",
      "Epoch: 02 | Time: 1m 47s\n",
      "\tTrain Loss: 0.147 | \n",
      "\t Val. Loss: 4.156 | \n",
      "Epoch: 03 | Time: 1m 48s\n",
      "\tTrain Loss: 0.125 | \n",
      "\t Val. Loss: 3.841 | \n",
      "Epoch: 04 | Time: 1m 47s\n",
      "\tTrain Loss: 0.122 | \n",
      "\t Val. Loss: 4.036 | \n",
      "Epoch: 05 | Time: 1m 49s\n",
      "\tTrain Loss: 0.118 | \n",
      "\t Val. Loss: 3.426 | \n",
      "Epoch: 06 | Time: 1m 47s\n",
      "\tTrain Loss: 0.108 | \n",
      "\t Val. Loss: 3.865 | \n"
     ]
    }
   ],
   "source": [
    "N_EPOCHS = 6\n",
    "CLIP = 1\n",
    "iterations = 1000\n",
    "best_valid_loss = float('inf')\n",
    "model.apply(initialize_weights);\n",
    "for epoch in range(N_EPOCHS):\n",
    "    \n",
    "    start_time = time.time()\n",
    "    \n",
    "    train_loss = train(model, train_iterator, optimizer, criterion, CLIP, iterations)\n",
    "    valid_loss = evaluate(model, valid_iterator, criterion, iterations)\n",
    "    \n",
    "    end_time = time.time()\n",
    "    \n",
    "    epoch_mins, epoch_secs = epoch_time(start_time, end_time)\n",
    "    \n",
    "#     if valid_loss < best_valid_loss:\n",
    "#         best_valid_loss = valid_loss\n",
    "#         torch.save(model.state_dict(), 'tut6-model.pt')\n",
    "    \n",
    "    print(f'Epoch: {epoch+1:02} | Time: {epoch_mins}m {epoch_secs}s')\n",
    "    print(f'\\tTrain Loss: {train_loss:.3f} | ')\n",
    "    print(f'\\t Val. Loss: {valid_loss:.3f} | ')"
   ]
  },
  {
   "cell_type": "markdown",
   "metadata": {
    "colab_type": "text",
    "id": "JY2uR5qAX2WD"
   },
   "source": [
    "We load our \"best\" parameters and manage to achieve a better test perplexity than all previous models."
   ]
  },
  {
   "cell_type": "code",
   "execution_count": null,
   "metadata": {
    "colab": {},
    "colab_type": "code",
    "id": "3-UBWWlxX2WD",
    "outputId": "c09e4af1-47b7-49ca-d49d-8e994ad1c330"
   },
   "outputs": [
    {
     "name": "stdout",
     "output_type": "stream",
     "text": [
      "| Test Loss: 1.682 | Test PPL:   5.377 |\n"
     ]
    }
   ],
   "source": [
    "model.load_state_dict(torch.load('tut6-model.pt'))\n",
    "\n",
    "test_loss = evaluate(model, test_iterator, criterion)\n",
    "\n",
    "print(f'| Test Loss: {test_loss:.3f} | Test PPL: {math.exp(test_loss):7.3f} |')"
   ]
  },
  {
   "cell_type": "markdown",
   "metadata": {
    "colab_type": "text",
    "id": "UdDa2xCoX2WE"
   },
   "source": [
    "## Inference\n",
    "\n",
    "Now we can can translations from our model with the `translate_sentence` function below.\n",
    "\n",
    "The steps taken are:\n",
    "- tokenize the source sentence if it has not been tokenized (is a string)\n",
    "- append the `<sos>` and `<eos>` tokens\n",
    "- numericalize the source sentence\n",
    "- convert it to a tensor and add a batch dimension\n",
    "- create the source sentence mask\n",
    "- feed the source sentence and mask into the encoder\n",
    "- create a list to hold the output sentence, initialized with an `<sos>` token\n",
    "- while we have not hit a maximum length\n",
    "  - convert the current output sentence prediction into a tensor with a batch dimension\n",
    "  - create a target sentence mask\n",
    "  - place the current output, encoder output and both masks into the decoder\n",
    "  - get next output token prediction from decoder along with attention\n",
    "  - add prediction to current output sentence prediction\n",
    "  - break if the prediction was an `<eos>` token\n",
    "- convert the output sentence from indexes to tokens\n",
    "- return the output sentence (with the `<sos>` token removed) and the attention from the last layer"
   ]
  },
  {
   "cell_type": "code",
   "execution_count": null,
   "metadata": {
    "colab": {},
    "colab_type": "code",
    "id": "Hwtya1T2X2WF"
   },
   "outputs": [],
   "source": [
    "def translate_sentence(sentence, src_field, trg_field, model, device, max_len = 50):\n",
    "    \n",
    "    model.eval()\n",
    "        \n",
    "    if isinstance(sentence, str):\n",
    "        nlp = spacy.load('de')\n",
    "        tokens = [token.text.lower() for token in nlp(sentence)]\n",
    "    else:\n",
    "        tokens = [token.lower() for token in sentence]\n",
    "\n",
    "    tokens = [src_field.init_token] + tokens + [src_field.eos_token]\n",
    "        \n",
    "    src_indexes = [src_field.vocab.stoi[token] for token in tokens]\n",
    "\n",
    "    src_tensor = torch.LongTensor(src_indexes).unsqueeze(0).to(device)\n",
    "    \n",
    "    src_mask = model.make_src_mask(src_tensor)\n",
    "    \n",
    "    with torch.no_grad():\n",
    "        enc_src = model.encoder(src_tensor, src_mask)\n",
    "\n",
    "    trg_indexes = [trg_field.vocab.stoi[trg_field.init_token]]\n",
    "\n",
    "    for i in range(max_len):\n",
    "\n",
    "        trg_tensor = torch.LongTensor(trg_indexes).unsqueeze(0).to(device)\n",
    "\n",
    "        trg_mask = model.make_trg_mask(trg_tensor)\n",
    "        \n",
    "        with torch.no_grad():\n",
    "            output, attention = model.decoder(trg_tensor, enc_src, trg_mask, src_mask)\n",
    "        \n",
    "        pred_token = output.argmax(2)[:,-1].item()\n",
    "        \n",
    "        trg_indexes.append(pred_token)\n",
    "\n",
    "        if pred_token == trg_field.vocab.stoi[trg_field.eos_token]:\n",
    "            break\n",
    "    \n",
    "    trg_tokens = [trg_field.vocab.itos[i] for i in trg_indexes]\n",
    "    \n",
    "    return trg_tokens[1:], attention"
   ]
  },
  {
   "cell_type": "markdown",
   "metadata": {
    "colab_type": "text",
    "id": "Im2taCIvX2WG"
   },
   "source": [
    "We'll now define a function that displays the attention over the source sentence for each step of the decoding. As this model has 8 heads our model we can view the attention for each of the heads."
   ]
  },
  {
   "cell_type": "code",
   "execution_count": null,
   "metadata": {
    "colab": {},
    "colab_type": "code",
    "id": "1JWpxN7gX2WL"
   },
   "outputs": [],
   "source": [
    "def display_attention(sentence, translation, attention, n_heads = 8, n_rows = 4, n_cols = 2):\n",
    "    \n",
    "    assert n_rows * n_cols == n_heads\n",
    "    \n",
    "    fig = plt.figure(figsize=(15,25))\n",
    "    \n",
    "    for i in range(n_heads):\n",
    "        \n",
    "        ax = fig.add_subplot(n_rows, n_cols, i+1)\n",
    "        \n",
    "        _attention = attention.squeeze(0)[i].cpu().detach().numpy()\n",
    "\n",
    "        cax = ax.matshow(_attention, cmap='bone')\n",
    "\n",
    "        ax.tick_params(labelsize=12)\n",
    "        ax.set_xticklabels(['']+['<sos>']+[t.lower() for t in sentence]+['<eos>'], \n",
    "                           rotation=45)\n",
    "        ax.set_yticklabels(['']+translation)\n",
    "\n",
    "        ax.xaxis.set_major_locator(ticker.MultipleLocator(1))\n",
    "        ax.yaxis.set_major_locator(ticker.MultipleLocator(1))\n",
    "\n",
    "    plt.show()\n",
    "    plt.close()"
   ]
  },
  {
   "cell_type": "markdown",
   "metadata": {
    "colab_type": "text",
    "id": "sRlKCBiRX2WN"
   },
   "source": [
    "First, we'll get an example from the training set."
   ]
  },
  {
   "cell_type": "code",
   "execution_count": null,
   "metadata": {
    "colab": {},
    "colab_type": "code",
    "id": "OxeYHg5FX2WO",
    "outputId": "5624b15c-6625-4761-90db-33d48bf1af84"
   },
   "outputs": [
    {
     "name": "stdout",
     "output_type": "stream",
     "text": [
      "src = ['eine', 'frau', 'mit', 'einer', 'großen', 'geldbörse', 'geht', 'an', 'einem', 'tor', 'vorbei', '.']\n",
      "trg = ['a', 'woman', 'with', 'a', 'large', 'purse', 'is', 'walking', 'by', 'a', 'gate', '.']\n"
     ]
    }
   ],
   "source": [
    "example_idx = 8\n",
    "\n",
    "src = vars(train_data.examples[example_idx])['src']\n",
    "trg = vars(train_data.examples[example_idx])['trg']\n",
    "\n",
    "print(f'src = {src}')\n",
    "print(f'trg = {trg}')"
   ]
  },
  {
   "cell_type": "markdown",
   "metadata": {
    "colab_type": "text",
    "id": "MX5JjfS2X2WY"
   },
   "source": [
    "Our translation looks pretty good, although our model changes *is walking by* to *walks by*. The meaning is still the same."
   ]
  },
  {
   "cell_type": "code",
   "execution_count": null,
   "metadata": {
    "colab": {},
    "colab_type": "code",
    "id": "JFEHKozzX2WZ",
    "outputId": "32026f65-c89e-4573-8d17-4b9a04812cf4"
   },
   "outputs": [
    {
     "name": "stdout",
     "output_type": "stream",
     "text": [
      "predicted trg = ['a', 'woman', 'with', 'a', 'large', 'purse', 'walks', 'by', 'a', 'gate', '.', '<eos>']\n"
     ]
    }
   ],
   "source": [
    "translation, attention = translate_sentence(src, SRC, TRG, model, device)\n",
    "\n",
    "print(f'predicted trg = {translation}')"
   ]
  },
  {
   "cell_type": "markdown",
   "metadata": {
    "colab_type": "text",
    "id": "PQzf-MW6X2Wa"
   },
   "source": [
    "We can see the attention from each head below. Each is certainly different, but it's difficult (perhaps impossible) to reason about what head has actually learned to pay attention to. Some heads pay full attention to \"eine\" when translating \"a\", some don't at all, and some do a little. They all seem to follow the similar \"downward staircase\" pattern and the attention when outputting the last two tokens is equally spread over the final two tokens in the input sentence."
   ]
  },
  {
   "cell_type": "code",
   "execution_count": null,
   "metadata": {
    "colab": {},
    "colab_type": "code",
    "id": "v1OXHzH1X2Wb",
    "outputId": "b8faa780-abe5-43d8-94ae-11f2ad39bb11"
   },
   "outputs": [
    {
     "data": {
      "image/png": "[encoded data removed]",
      "text/plain": [
       "<Figure size 1080x1800 with 8 Axes>"
      ]
     },
     "metadata": {
      "tags": []
     },
     "output_type": "display_data"
    }
   ],
   "source": [
    "display_attention(src, translation, attention)"
   ]
  },
  {
   "cell_type": "markdown",
   "metadata": {
    "colab_type": "text",
    "id": "TGKZUBc-X2Wc"
   },
   "source": [
    "Next, let's get an example the model has not been trained on from the validation set."
   ]
  },
  {
   "cell_type": "code",
   "execution_count": null,
   "metadata": {
    "colab": {},
    "colab_type": "code",
    "id": "ByoIrl0nX2Wc",
    "outputId": "ee0b6032-d217-4fa8-e0ab-1ed9ad4926a2"
   },
   "outputs": [
    {
     "name": "stdout",
     "output_type": "stream",
     "text": [
      "src = ['ein', 'brauner', 'hund', 'rennt', 'dem', 'schwarzen', 'hund', 'hinterher', '.']\n",
      "trg = ['a', 'brown', 'dog', 'is', 'running', 'after', 'the', 'black', 'dog', '.']\n"
     ]
    }
   ],
   "source": [
    "example_idx = 6\n",
    "\n",
    "src = vars(valid_data.examples[example_idx])['src']\n",
    "trg = vars(valid_data.examples[example_idx])['trg']\n",
    "\n",
    "print(f'src = {src}')\n",
    "print(f'trg = {trg}')"
   ]
  },
  {
   "cell_type": "markdown",
   "metadata": {
    "colab_type": "text",
    "id": "UQ8cl3yHX2We"
   },
   "source": [
    "The model translates it by switching *is running* to just *running*, but it is an acceptable swap."
   ]
  },
  {
   "cell_type": "code",
   "execution_count": null,
   "metadata": {
    "colab": {},
    "colab_type": "code",
    "id": "l283T3jPX2We",
    "outputId": "f465b44c-cca0-4a0e-c408-1666e35495f7"
   },
   "outputs": [
    {
     "name": "stdout",
     "output_type": "stream",
     "text": [
      "predicted trg = ['a', 'brown', 'dog', 'running', 'after', 'the', 'black', 'dog', '.', '<eos>']\n"
     ]
    }
   ],
   "source": [
    "translation, attention = translate_sentence(src, SRC, TRG, model, device)\n",
    "\n",
    "print(f'predicted trg = {translation}')"
   ]
  },
  {
   "cell_type": "markdown",
   "metadata": {
    "colab_type": "text",
    "id": "A3ll6B6sX2Wg"
   },
   "source": [
    "Again, some heads pay full attention to \"ein\" whilst some pay no attention to it. Again, most of the heads seem to spread their attention over both the period and `<eos>` tokens in the source sentence when outputting the period and `<eos>` sentence in the predicted target sentence, though some seem to pay attention to tokens from near the start of the sentence."
   ]
  },
  {
   "cell_type": "code",
   "execution_count": null,
   "metadata": {
    "colab": {},
    "colab_type": "code",
    "id": "rZBBCLbBX2Wh",
    "outputId": "ba3b0b9c-23d6-48fa-860f-b2d60ab47edc"
   },
   "outputs": [
    {
     "data": {
      "image/png": "[encoded data removed]",
      "text/plain": [
       "<Figure size 1080x1800 with 8 Axes>"
      ]
     },
     "metadata": {
      "tags": []
     },
     "output_type": "display_data"
    }
   ],
   "source": [
    "display_attention(src, translation, attention)"
   ]
  },
  {
   "cell_type": "markdown",
   "metadata": {
    "colab_type": "text",
    "id": "XJC7PeA0X2Wi"
   },
   "source": [
    "Finally, we'll look at an example from the test data."
   ]
  },
  {
   "cell_type": "code",
   "execution_count": null,
   "metadata": {
    "colab": {},
    "colab_type": "code",
    "id": "bNxxsXbDX2Wi",
    "outputId": "23bb3011-ce9f-412e-977f-0e6133c1256a"
   },
   "outputs": [
    {
     "name": "stdout",
     "output_type": "stream",
     "text": [
      "src = ['eine', 'mutter', 'und', 'ihr', 'kleiner', 'sohn', 'genießen', 'einen', 'schönen', 'tag', 'im', 'freien', '.']\n",
      "trg = ['a', 'mother', 'and', 'her', 'young', 'song', 'enjoying', 'a', 'beautiful', 'day', 'outside', '.']\n"
     ]
    }
   ],
   "source": [
    "example_idx = 10\n",
    "\n",
    "src = vars(test_data.examples[example_idx])['src']\n",
    "trg = vars(test_data.examples[example_idx])['trg']\n",
    "\n",
    "print(f'src = {src}')\n",
    "print(f'trg = {trg}')"
   ]
  },
  {
   "cell_type": "markdown",
   "metadata": {
    "colab_type": "text",
    "id": "Wc_1eXlCX2Wj"
   },
   "source": [
    "A decent translation with *young* being omitted."
   ]
  },
  {
   "cell_type": "code",
   "execution_count": null,
   "metadata": {
    "colab": {},
    "colab_type": "code",
    "id": "UEiVcXLPX2Wj",
    "outputId": "da332ba7-0ae1-4d51-fda8-7196e49706e6"
   },
   "outputs": [
    {
     "name": "stdout",
     "output_type": "stream",
     "text": [
      "predicted trg = ['a', 'mother', 'and', 'her', 'son', 'enjoying', 'a', 'beautiful', 'day', 'outside', '.', '<eos>']\n"
     ]
    }
   ],
   "source": [
    "translation, attention = translate_sentence(src, SRC, TRG, model, device)\n",
    "\n",
    "print(f'predicted trg = {translation}')"
   ]
  },
  {
   "cell_type": "code",
   "execution_count": null,
   "metadata": {
    "colab": {},
    "colab_type": "code",
    "id": "5rNbc1vJX2Wk",
    "outputId": "b8d33701-8423-4b66-813c-e0778401de9f"
   },
   "outputs": [
    {
     "data": {
      "image/png": "[encoded data removed]",
      "text/plain": [
       "<Figure size 1080x1800 with 8 Axes>"
      ]
     },
     "metadata": {
      "tags": []
     },
     "output_type": "display_data"
    }
   ],
   "source": [
    "display_attention(src, translation, attention)"
   ]
  },
  {
   "cell_type": "markdown",
   "metadata": {
    "colab_type": "text",
    "id": "ynaOXzNqX2Wm"
   },
   "source": [
    "## BLEU\n",
    "\n",
    "Finally we calculate the BLEU score for the Transformer."
   ]
  },
  {
   "cell_type": "code",
   "execution_count": null,
   "metadata": {
    "colab": {},
    "colab_type": "code",
    "id": "xXJdepCsX2Wm"
   },
   "outputs": [],
   "source": [
    "from torchtext.data.metrics import bleu_score\n",
    "\n",
    "def calculate_bleu(data, src_field, trg_field, model, device, max_len = 50):\n",
    "    \n",
    "    trgs = []\n",
    "    pred_trgs = []\n",
    "    \n",
    "    for datum in data:\n",
    "        \n",
    "        src = vars(datum)['src']\n",
    "        trg = vars(datum)['trg']\n",
    "        \n",
    "        pred_trg, _ = translate_sentence(src, src_field, trg_field, model, device, max_len)\n",
    "        \n",
    "        #cut off <eos> token\n",
    "        pred_trg = pred_trg[:-1]\n",
    "        \n",
    "        pred_trgs.append(pred_trg)\n",
    "        trgs.append([trg])\n",
    "        \n",
    "    return bleu_score(pred_trgs, trgs)"
   ]
  },
  {
   "cell_type": "markdown",
   "metadata": {
    "colab_type": "text",
    "id": "fG0mjgI9X2Wo"
   },
   "source": [
    "We get a BLEU score of 35.08, which beats the 33.3 of the convolutional sequence-to-sequence model and 28.2 of the attention based RNN model. All this whilst having the least amount of parameters and the fastest training time!"
   ]
  },
  {
   "cell_type": "code",
   "execution_count": null,
   "metadata": {
    "colab": {},
    "colab_type": "code",
    "id": "KvGyGZ59X2Wo",
    "outputId": "19fad5d1-08ee-455f-aa5d-8ab7d772a767"
   },
   "outputs": [
    {
     "name": "stdout",
     "output_type": "stream",
     "text": [
      "BLEU score = 35.08\n"
     ]
    }
   ],
   "source": [
    "bleu_score = calculate_bleu(test_data, SRC, TRG, model, device)\n",
    "\n",
    "print(f'BLEU score = {bleu_score*100:.2f}')"
   ]
  },
  {
   "cell_type": "markdown",
   "metadata": {
    "colab_type": "text",
    "id": "rNCd8RZNX2Wq"
   },
   "source": [
    "Congratulations for finishing these tutorials! I hope you've found them useful.\n",
    "\n",
    "If you find any mistakes or want to ask any questions about any of the code or explanations used, feel free to submit a GitHub issue and I will try to correct it ASAP. "
   ]
  }
 ],
 "metadata": {
  "accelerator": "GPU",
  "colab": {
   "name": "6 - Attention is All You Need.ipynb",
   "provenance": [],
   "toc_visible": true
  },
  "kernelspec": {
   "display_name": "Python 3",
   "language": "python",
   "name": "python3"
  },
  "language_info": {
   "codemirror_mode": {
    "name": "ipython",
    "version": 3
   },
   "file_extension": ".py",
   "mimetype": "text/x-python",
   "name": "python",
   "nbconvert_exporter": "python",
   "pygments_lexer": "ipython3",
   "version": "3.7.3"
  }
 },
 "nbformat": 4,
 "nbformat_minor": 1
}
