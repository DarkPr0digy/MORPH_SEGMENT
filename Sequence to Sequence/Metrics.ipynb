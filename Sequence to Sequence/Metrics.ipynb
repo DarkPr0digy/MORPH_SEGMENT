{
 "cells": [
  {
   "cell_type": "code",
   "execution_count": 207,
   "metadata": {},
   "outputs": [],
   "source": [
    "\n",
    "resultFile = open('./Results/Transformer/results-swati-unlabled-10.txt').read()\n",
    "results = resultFile.split('\\n')\n",
    "\n",
    "pred = []\n",
    "target = []"
   ]
  },
  {
   "cell_type": "code",
   "execution_count": 208,
   "metadata": {
    "scrolled": false
   },
   "outputs": [],
   "source": [
    "for line in results:\n",
    "    word = line.split('\\t')\n",
    "    pred.append(word[0].split('-'))\n",
    "    target.append(word[1].split('-'))"
   ]
  },
  {
   "cell_type": "code",
   "execution_count": 209,
   "metadata": {},
   "outputs": [
    {
     "name": "stdout",
     "output_type": "stream",
     "text": [
      "['le']\n",
      "['le']\n"
     ]
    }
   ],
   "source": [
    "print(pred[2000])\n",
    "print(target[2000])"
   ]
  },
  {
   "cell_type": "code",
   "execution_count": 210,
   "metadata": {},
   "outputs": [],
   "source": [
    "def eval_morph_segments(predicted, target):\n",
    "    correct = 0.0\n",
    "    assert len(predicted)==len(target)\n",
    "    for pred, targ in zip(predicted, target):\n",
    "        for p in pred:\n",
    "            if p in targ:\n",
    "                correct += 1\n",
    "\n",
    "    predicted_length = sum([len(pred) for pred in predicted])\n",
    "    target_length = sum([len(targ) for targ in target])\n",
    "\n",
    "    precision, recall = correct/predicted_length, correct/target_length\n",
    "    f_score = 2/(1/precision + 1/recall)\n",
    "    print(\"P: \", round(precision*100,3),\"R: \", round(recall*100,3),\"F1: \", round(f_score*100,3))\n",
    "\n",
    "\n",
    "model_output = [[\"nga\", \"ii\", \"zin\", \"konzo\"], [\"wo\", \"ku\", \"thol\", \"akal\", \"a\"], ['na,','ga','phanda' ]]\n",
    "reference = [[\"nga\", \"i\", \"zin\", \"khonzo\"], [\"woku\", \"thol\", \"akal\", \"a\"], ['ga','phanda' ]]\n",
    "\n",
    "\n"
   ]
  },
  {
   "cell_type": "code",
   "execution_count": 211,
   "metadata": {},
   "outputs": [
    {
     "name": "stdout",
     "output_type": "stream",
     "text": [
      "P:  76.069 R:  72.958 F1:  74.481\n"
     ]
    }
   ],
   "source": [
    "eval_morph_segments(pred, target)"
   ]
  },
  {
   "cell_type": "code",
   "execution_count": null,
   "metadata": {},
   "outputs": [],
   "source": []
  },
  {
   "cell_type": "code",
   "execution_count": null,
   "metadata": {},
   "outputs": [],
   "source": []
  }
 ],
 "metadata": {
  "kernelspec": {
   "display_name": "Python 3",
   "language": "python",
   "name": "python3"
  },
  "language_info": {
   "codemirror_mode": {
    "name": "ipython",
    "version": 3
   },
   "file_extension": ".py",
   "mimetype": "text/x-python",
   "name": "python",
   "nbconvert_exporter": "python",
   "pygments_lexer": "ipython3",
   "version": "3.7.3"
  }
 },
 "nbformat": 4,
 "nbformat_minor": 2
}
